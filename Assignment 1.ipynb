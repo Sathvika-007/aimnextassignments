{
 "cells": [
  {
   "cell_type": "code",
   "execution_count": 19,
   "id": "02f0034c-1d4c-427b-921f-03b8ba0f2437",
   "metadata": {},
   "outputs": [],
   "source": [
    "s = \"sathvika\"                         #1st question"
   ]
  },
  {
   "cell_type": "code",
   "execution_count": 3,
   "id": "d9f84baa-b70e-45f8-a91d-8cc4f94c682e",
   "metadata": {},
   "outputs": [
    {
     "name": "stdout",
     "output_type": "stream",
     "text": [
      "s\n"
     ]
    }
   ],
   "source": [
    "print(s[0])"
   ]
  },
  {
   "cell_type": "code",
   "execution_count": 15,
   "id": "3d718ed5-2b73-4383-aa85-aefe61c3671f",
   "metadata": {},
   "outputs": [
    {
     "name": "stdout",
     "output_type": "stream",
     "text": [
      "a\n"
     ]
    }
   ],
   "source": [
    "print(s[-1])"
   ]
  },
  {
   "cell_type": "code",
   "execution_count": 16,
   "id": "f3bf9ace-dc10-4805-96cd-029afe856e2b",
   "metadata": {},
   "outputs": [
    {
     "name": "stdout",
     "output_type": "stream",
     "text": [
      "aathviks\n"
     ]
    }
   ],
   "source": [
    "print(s[-1]+s[1:-1]+s[0])"
   ]
  },
  {
   "cell_type": "code",
   "execution_count": 27,
   "id": "368dfb1c-c9ef-42a1-a1fa-0c3aaf7b4024",
   "metadata": {},
   "outputs": [],
   "source": [
    "s = \"hello world\"                       #2nd question"
   ]
  },
  {
   "cell_type": "code",
   "execution_count": 23,
   "id": "35cdb0e7-7937-417b-a7e1-91a394933c56",
   "metadata": {},
   "outputs": [
    {
     "data": {
      "text/plain": [
       "'Hello world'"
      ]
     },
     "execution_count": 23,
     "metadata": {},
     "output_type": "execute_result"
    }
   ],
   "source": [
    "s.capitalize()"
   ]
  },
  {
   "cell_type": "code",
   "execution_count": 26,
   "id": "d05168c6-d09a-4911-aa8d-19a2e7968758",
   "metadata": {},
   "outputs": [
    {
     "data": {
      "text/plain": [
       "'Hello World'"
      ]
     },
     "execution_count": 26,
     "metadata": {},
     "output_type": "execute_result"
    }
   ],
   "source": [
    "s.title()"
   ]
  },
  {
   "cell_type": "code",
   "execution_count": 31,
   "id": "8291352e-5cd7-4f16-92a2-6c14eb1281b3",
   "metadata": {},
   "outputs": [
    {
     "data": {
      "text/plain": [
       "'hello python'"
      ]
     },
     "execution_count": 31,
     "metadata": {},
     "output_type": "execute_result"
    }
   ],
   "source": [
    "s.replace('world','python')"
   ]
  },
  {
   "cell_type": "code",
   "execution_count": 49,
   "id": "f7c578c8-d115-4aa9-af1f-cb074dfe13da",
   "metadata": {},
   "outputs": [],
   "source": [
    "S1 = \"This is my first Assignment\"                #3rd question"
   ]
  },
  {
   "cell_type": "code",
   "execution_count": 38,
   "id": "2724b591-5731-44fd-9eed-461c299d937b",
   "metadata": {},
   "outputs": [
    {
     "name": "stdout",
     "output_type": "stream",
     "text": [
      "4\n"
     ]
    }
   ],
   "source": [
    "print(S1.count('i'))"
   ]
  },
  {
   "cell_type": "code",
   "execution_count": 39,
   "id": "c680e7e0-93af-4d06-8d09-8961fc12d5bc",
   "metadata": {},
   "outputs": [
    {
     "name": "stdout",
     "output_type": "stream",
     "text": [
      "2\n"
     ]
    }
   ],
   "source": [
    "print(S1.count('t'))"
   ]
  },
  {
   "cell_type": "code",
   "execution_count": 31,
   "id": "12583756-4933-4f20-b2ab-017444f66c20",
   "metadata": {},
   "outputs": [],
   "source": [
    "s = \"ABCDEFGHIJK\"                         #4th question"
   ]
  },
  {
   "cell_type": "code",
   "execution_count": 120,
   "id": "98ee81cb-a4fc-4756-b7b9-95a3144a88cf",
   "metadata": {},
   "outputs": [
    {
     "name": "stdout",
     "output_type": "stream",
     "text": [
      "BDFHJ\n"
     ]
    }
   ],
   "source": [
    "print(s[1:11:2])"
   ]
  },
  {
   "cell_type": "code",
   "execution_count": 28,
   "id": "3c9de9ea-e038-408d-8acd-a209a1abc95b",
   "metadata": {},
   "outputs": [
    {
     "data": {
      "text/plain": [
       "11"
      ]
     },
     "execution_count": 28,
     "metadata": {},
     "output_type": "execute_result"
    }
   ],
   "source": [
    "len(s)"
   ]
  },
  {
   "cell_type": "code",
   "execution_count": 17,
   "id": "929f49a1-7d78-425f-b7c1-fd5dd675f1fb",
   "metadata": {},
   "outputs": [
    {
     "name": "stdout",
     "output_type": "stream",
     "text": [
      "EDCBA\n"
     ]
    }
   ],
   "source": [
    "print(s[4::-1])      #slicing operation"
   ]
  },
  {
   "cell_type": "code",
   "execution_count": 65,
   "id": "1e0097b2-9331-464d-ad9d-e32e9a535fc7",
   "metadata": {},
   "outputs": [
    {
     "data": {
      "text/plain": [
       "'EDCBA'"
      ]
     },
     "execution_count": 65,
     "metadata": {},
     "output_type": "execute_result"
    }
   ],
   "source": [
    "''.join(reversed(s[0:5]))         #inbuilt function        "
   ]
  },
  {
   "cell_type": "code",
   "execution_count": 36,
   "id": "88da06d9-5a57-478e-a08b-7f09558e459d",
   "metadata": {},
   "outputs": [
    {
     "name": "stdout",
     "output_type": "stream",
     "text": [
      "DGJ\n"
     ]
    }
   ],
   "source": [
    "print(s[3::3])"
   ]
  },
  {
   "cell_type": "code",
   "execution_count": 97,
   "id": "f0e8705a-92e5-4387-ad45-5f9b38c3f64c",
   "metadata": {},
   "outputs": [],
   "source": [
    "a= \" PyTHon PrACtice \"                   #5th question"
   ]
  },
  {
   "cell_type": "code",
   "execution_count": 95,
   "id": "615b3077-e72e-44cd-90ec-4176fed438f4",
   "metadata": {},
   "outputs": [
    {
     "name": "stdout",
     "output_type": "stream",
     "text": [
      "PyTHon PrACtice\n"
     ]
    }
   ],
   "source": [
    "print(a.strip())"
   ]
  },
  {
   "cell_type": "code",
   "execution_count": 96,
   "id": "4862f61c-8760-41bd-990b-7264af19ed71",
   "metadata": {},
   "outputs": [
    {
     "name": "stdout",
     "output_type": "stream",
     "text": [
      " Python Practice \n"
     ]
    }
   ],
   "source": [
    "print(a.title())"
   ]
  },
  {
   "cell_type": "code",
   "execution_count": 108,
   "id": "72b61664-b133-427f-adf1-691bfe6f964b",
   "metadata": {},
   "outputs": [],
   "source": [
    "s2 = \"Data Science\"                   #6th question"
   ]
  },
  {
   "cell_type": "code",
   "execution_count": 106,
   "id": "78c5c520-39a4-481f-a9a1-d94263b0aadf",
   "metadata": {},
   "outputs": [
    {
     "data": {
      "text/plain": [
       "False"
      ]
     },
     "execution_count": 106,
     "metadata": {},
     "output_type": "execute_result"
    }
   ],
   "source": [
    "s2.endswith('.')"
   ]
  },
  {
   "cell_type": "code",
   "execution_count": 107,
   "id": "2a322bd5-662e-4b5d-8a6b-ef687deb5e95",
   "metadata": {},
   "outputs": [
    {
     "data": {
      "text/plain": [
       "False"
      ]
     },
     "execution_count": 107,
     "metadata": {},
     "output_type": "execute_result"
    }
   ],
   "source": [
    "s2.endswith('?')"
   ]
  },
  {
   "cell_type": "code",
   "execution_count": 119,
   "id": "7b3c407a-663d-480f-85d1-2c31d0bc395a",
   "metadata": {},
   "outputs": [],
   "source": [
    "s3 = \"Python is powerful and fast.\"                #7th question"
   ]
  },
  {
   "cell_type": "code",
   "execution_count": 126,
   "id": "c7d4c8f2-9184-457e-bfd9-7eee20eea859",
   "metadata": {},
   "outputs": [
    {
     "name": "stdout",
     "output_type": "stream",
     "text": [
      "powerful\n"
     ]
    }
   ],
   "source": [
    "print(s3[10:18:1])              #slicing operation"
   ]
  },
  {
   "cell_type": "code",
   "execution_count": 125,
   "id": "997eb8ec-3d89-43fb-bbf9-3593231dd516",
   "metadata": {},
   "outputs": [
    {
     "name": "stdout",
     "output_type": "stream",
     "text": [
      "is powerful and\n"
     ]
    }
   ],
   "source": [
    "print(s3[7:22:1])"
   ]
  },
  {
   "cell_type": "code",
   "execution_count": 19,
   "id": "e5d3dae8-e980-4ec9-99e8-8ebcc01ecb0e",
   "metadata": {},
   "outputs": [],
   "source": [
    "s = \"HelloWorld\"                 #8th question"
   ]
  },
  {
   "cell_type": "code",
   "execution_count": 143,
   "id": "5619a6a0-1ea4-42e1-98fe-335b8e159446",
   "metadata": {},
   "outputs": [
    {
     "name": "stdout",
     "output_type": "stream",
     "text": [
      "Hello\n"
     ]
    }
   ],
   "source": [
    "print(s[0:5])"
   ]
  },
  {
   "cell_type": "code",
   "execution_count": 147,
   "id": "5fceb32c-01cc-4f2f-ad00-6a3e1a34561b",
   "metadata": {},
   "outputs": [
    {
     "name": "stdout",
     "output_type": "stream",
     "text": [
      "World\n"
     ]
    }
   ],
   "source": [
    "print(s[5:10])"
   ]
  },
  {
   "cell_type": "code",
   "execution_count": 25,
   "id": "0f1013bf-7464-4d99-8719-ef0d6a54c113",
   "metadata": {},
   "outputs": [
    {
     "name": "stdout",
     "output_type": "stream",
     "text": [
      "elWrd\n"
     ]
    }
   ],
   "source": [
    "print(s[1:10:2])"
   ]
  },
  {
   "cell_type": "code",
   "execution_count": 39,
   "id": "26d00a1b-296a-4a95-a9cd-ab8a2b60acd4",
   "metadata": {},
   "outputs": [],
   "source": [
    "v = \"abcdefghij\"                   #9th question"
   ]
  },
  {
   "cell_type": "code",
   "execution_count": 38,
   "id": "d56babff-b011-4971-b0e3-3438403545ac",
   "metadata": {},
   "outputs": [
    {
     "name": "stdout",
     "output_type": "stream",
     "text": [
      "cde\n"
     ]
    }
   ],
   "source": [
    "print(v[2:5])"
   ]
  },
  {
   "cell_type": "code",
   "execution_count": 41,
   "id": "c7c764ab-3a17-40e4-8669-7879eb8c9ed6",
   "metadata": {},
   "outputs": [
    {
     "name": "stdout",
     "output_type": "stream",
     "text": [
      "bdfh\n"
     ]
    }
   ],
   "source": [
    "print(v[1:8:2])"
   ]
  },
  {
   "cell_type": "code",
   "execution_count": 42,
   "id": "e5a10ef4-a988-45fd-b0ba-975674665802",
   "metadata": {},
   "outputs": [
    {
     "name": "stdout",
     "output_type": "stream",
     "text": [
      "jihgfedcba\n"
     ]
    }
   ],
   "source": [
    "print(v[::-1])"
   ]
  },
  {
   "cell_type": "code",
   "execution_count": 51,
   "id": "fec2ba00-86c7-4676-9f32-292ef9a6b067",
   "metadata": {},
   "outputs": [],
   "source": [
    "v1 = \"sathvikaa\"               #10th question"
   ]
  },
  {
   "cell_type": "code",
   "execution_count": 49,
   "id": "f9f8be4a-de75-4e36-8a35-11ac23fda39b",
   "metadata": {},
   "outputs": [
    {
     "name": "stdout",
     "output_type": "stream",
     "text": [
      "4\n"
     ]
    }
   ],
   "source": [
    "print(len(v1)//2)"
   ]
  },
  {
   "cell_type": "code",
   "execution_count": 50,
   "id": "40b49969-7ac7-48fc-8961-38558ce6806d",
   "metadata": {},
   "outputs": [
    {
     "name": "stdout",
     "output_type": "stream",
     "text": [
      "v\n"
     ]
    }
   ],
   "source": [
    "print(v1[4])"
   ]
  },
  {
   "cell_type": "code",
   "execution_count": 52,
   "id": "ae425004-05cc-4dc4-9dd5-b46d6172c3be",
   "metadata": {},
   "outputs": [],
   "source": [
    "v2 = \"sathvika\""
   ]
  },
  {
   "cell_type": "code",
   "execution_count": 54,
   "id": "8129a1d8-9bd7-4c28-94c0-249b42460efc",
   "metadata": {},
   "outputs": [],
   "source": [
    "mid = (len(v2)//2)"
   ]
  },
  {
   "cell_type": "code",
   "execution_count": 55,
   "id": "0d7b4eee-5cd6-4c9b-8e16-6cf610b08d5f",
   "metadata": {},
   "outputs": [
    {
     "name": "stdout",
     "output_type": "stream",
     "text": [
      "hv\n"
     ]
    }
   ],
   "source": [
    "print(v2[mid-1:mid+1])"
   ]
  },
  {
   "cell_type": "code",
   "execution_count": 76,
   "id": "5005fb3e-239a-40a8-987f-05cf4c5c7a3a",
   "metadata": {},
   "outputs": [],
   "source": [
    "x = \"DataScienceIsFun\"          #11th question"
   ]
  },
  {
   "cell_type": "code",
   "execution_count": 57,
   "id": "f4b1db3d-39a8-48b0-b655-2982075818ea",
   "metadata": {},
   "outputs": [
    {
     "name": "stdout",
     "output_type": "stream",
     "text": [
      "Science\n"
     ]
    }
   ],
   "source": [
    "print(x[4:11])"
   ]
  },
  {
   "cell_type": "code",
   "execution_count": 75,
   "id": "e3f2edd9-a6c4-4aa4-991e-2cda09cfd6e1",
   "metadata": {},
   "outputs": [
    {
     "name": "stdout",
     "output_type": "stream",
     "text": [
      "FunIsScience\n"
     ]
    }
   ],
   "source": [
    "print(x[-3:] + x[-5:-3] + x[4:11])"
   ]
  },
  {
   "cell_type": "code",
   "execution_count": 84,
   "id": "87188487-2fa8-4799-8571-e99c4ff24b13",
   "metadata": {},
   "outputs": [],
   "source": [
    "s3 = \"ABCDE12345XYZ\"            #12th question"
   ]
  },
  {
   "cell_type": "code",
   "execution_count": 90,
   "id": "b5a5cb3f-5973-46b6-88b4-56be2ece2f4e",
   "metadata": {},
   "outputs": [
    {
     "name": "stdout",
     "output_type": "stream",
     "text": [
      "ABCDEXYZ\n"
     ]
    }
   ],
   "source": [
    "print(''.join([c for c in s3 if c.isalpha()]))"
   ]
  },
  {
   "cell_type": "code",
   "execution_count": 93,
   "id": "46acc146-9083-45f7-a177-4292859e6ca4",
   "metadata": {},
   "outputs": [],
   "source": [
    "s = (''.join([c for c in s3 if c.isdigit()]))"
   ]
  },
  {
   "cell_type": "code",
   "execution_count": 94,
   "id": "a35e85df-4e2e-40a9-b319-c660ac83aace",
   "metadata": {},
   "outputs": [
    {
     "name": "stdout",
     "output_type": "stream",
     "text": [
      "12345\n"
     ]
    }
   ],
   "source": [
    "print(s)"
   ]
  },
  {
   "cell_type": "code",
   "execution_count": 96,
   "id": "ac837751-74b5-4069-b682-13453798281b",
   "metadata": {},
   "outputs": [
    {
     "name": "stdout",
     "output_type": "stream",
     "text": [
      "54321\n"
     ]
    }
   ],
   "source": [
    "print(s[::-1])"
   ]
  },
  {
   "cell_type": "code",
   "execution_count": 101,
   "id": "6dd90e73-d8d5-4464-96d0-1baf9866b5d1",
   "metadata": {},
   "outputs": [],
   "source": [
    "s = \"I love programming in Python\"          #13th question"
   ]
  },
  {
   "cell_type": "code",
   "execution_count": 100,
   "id": "d22402c7-f55c-4902-b8b1-1dab476d46fe",
   "metadata": {},
   "outputs": [
    {
     "name": "stdout",
     "output_type": "stream",
     "text": [
      "love programming\n"
     ]
    }
   ],
   "source": [
    "print(s[2:18:1])"
   ]
  },
  {
   "cell_type": "code",
   "execution_count": null,
   "id": "f73ca54a-1ffa-41ff-90a8-ef3f9a6f0347",
   "metadata": {},
   "outputs": [],
   "source": []
  },
  {
   "cell_type": "code",
   "execution_count": null,
   "id": "4c84f49d-a3d0-48e3-a593-beab3bd3bd66",
   "metadata": {},
   "outputs": [],
   "source": []
  },
  {
   "cell_type": "code",
   "execution_count": null,
   "id": "b3ae019d-51bc-437c-86a2-b9dd578a5c92",
   "metadata": {},
   "outputs": [],
   "source": []
  }
 ],
 "metadata": {
  "kernelspec": {
   "display_name": "Python 3 (ipykernel)",
   "language": "python",
   "name": "python3"
  },
  "language_info": {
   "codemirror_mode": {
    "name": "ipython",
    "version": 3
   },
   "file_extension": ".py",
   "mimetype": "text/x-python",
   "name": "python",
   "nbconvert_exporter": "python",
   "pygments_lexer": "ipython3",
   "version": "3.13.5"
  }
 },
 "nbformat": 4,
 "nbformat_minor": 5
}
