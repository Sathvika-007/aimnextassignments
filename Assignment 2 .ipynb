{
 "cells": [
  {
   "cell_type": "markdown",
   "id": "ecda2e10-514e-4d79-9c87-7bfaf4548a2e",
   "metadata": {},
   "source": [
    "1 . CREATE A STRING VARIABLE AND PRINT ITS LENGTH.\n"
   ]
  },
  {
   "cell_type": "code",
   "execution_count": 6,
   "id": "d6d22467-f122-4abf-91aa-6bfa3ecd8770",
   "metadata": {},
   "outputs": [
    {
     "data": {
      "text/plain": [
       "str"
      ]
     },
     "execution_count": 6,
     "metadata": {},
     "output_type": "execute_result"
    }
   ],
   "source": [
    "a = \"variable\"\n",
    "type(a)"
   ]
  },
  {
   "cell_type": "code",
   "execution_count": 7,
   "id": "5ecf89ba-fe67-4ee6-8986-7602ded6259b",
   "metadata": {},
   "outputs": [
    {
     "data": {
      "text/plain": [
       "8"
      ]
     },
     "execution_count": 7,
     "metadata": {},
     "output_type": "execute_result"
    }
   ],
   "source": [
    "len(a)"
   ]
  },
  {
   "cell_type": "markdown",
   "id": "7907c6f6-01b1-46d4-a83b-f01054828aa7",
   "metadata": {},
   "source": [
    "2. Take a string input from the user and print it in reverse.\n"
   ]
  },
  {
   "cell_type": "code",
   "execution_count": 13,
   "id": "13cad14c-ff4d-46eb-8133-9870b7dabbed",
   "metadata": {},
   "outputs": [
    {
     "name": "stdout",
     "output_type": "stream",
     "text": [
      "IA htiw ecneicsatad\n"
     ]
    }
   ],
   "source": [
    "S = \"datascience with AI\"\n",
    "print(S[::-1])"
   ]
  },
  {
   "cell_type": "code",
   "execution_count": 14,
   "id": "a97d89bb-8801-4702-ba85-7ed91959b23d",
   "metadata": {},
   "outputs": [
    {
     "name": "stdout",
     "output_type": "stream",
     "text": [
      "7847634523\n"
     ]
    }
   ],
   "source": [
    "A = \"3254367487\"\n",
    "print(A[::-1])"
   ]
  },
  {
   "cell_type": "markdown",
   "id": "ecd48781-43cd-4d6c-a486-64e362549d2a",
   "metadata": {},
   "source": [
    "3. Replace all occurrences of \"a\" with \"@\" in a given string.\n",
    "\n"
   ]
  },
  {
   "cell_type": "code",
   "execution_count": 16,
   "id": "502e86d6-4537-4535-947e-7694f0b7c9f4",
   "metadata": {},
   "outputs": [
    {
     "data": {
      "text/plain": [
       "'@lph@betic@l order'"
      ]
     },
     "execution_count": 16,
     "metadata": {},
     "output_type": "execute_result"
    }
   ],
   "source": [
    "t = \"alphabetical order\"\n",
    "t.replace(\"a\",\"@\")"
   ]
  },
  {
   "cell_type": "markdown",
   "id": "040781b6-7472-40e5-9eb2-9d7abf8ea72e",
   "metadata": {},
   "source": [
    "4. Convert a string to all uppercase letters using a loop (without .upper()).\n"
   ]
  },
  {
   "cell_type": "code",
   "execution_count": 25,
   "id": "40eed4df-d42d-4466-af6f-a02baf80279d",
   "metadata": {},
   "outputs": [
    {
     "name": "stdout",
     "output_type": "stream",
     "text": [
      "HELLO, WORLD!\n"
     ]
    }
   ],
   "source": [
    "a = \"Hello, World!\"\n",
    "b = a.upper()\n",
    "print(b)"
   ]
  },
  {
   "cell_type": "markdown",
   "id": "cace612e-a6fe-477d-86a2-44a402ec29f5",
   "metadata": {},
   "source": [
    "5. Count how many times the letter \"e\" appears in a string.\n",
    "\n"
   ]
  },
  {
   "cell_type": "code",
   "execution_count": 27,
   "id": "4a68bc0f-deda-429d-a663-60c129bb827e",
   "metadata": {},
   "outputs": [
    {
     "data": {
      "text/plain": [
       "2"
      ]
     },
     "execution_count": 27,
     "metadata": {},
     "output_type": "execute_result"
    }
   ],
   "source": [
    "b = \"Alphabets in english\"\n",
    "b.count('e')"
   ]
  },
  {
   "cell_type": "markdown",
   "id": "152d7156-fd73-4a9f-ac35-0ffe0b90e115",
   "metadata": {},
   "source": [
    "6.  Print the first and last character of a given string.\n",
    "\n"
   ]
  },
  {
   "cell_type": "code",
   "execution_count": 29,
   "id": "e3f17158-fe5f-4304-a55c-e3ba13bc8d14",
   "metadata": {},
   "outputs": [
    {
     "data": {
      "text/plain": [
       "'My'"
      ]
     },
     "execution_count": 29,
     "metadata": {},
     "output_type": "execute_result"
    }
   ],
   "source": [
    "s = \"My favourite food item\"\n",
    "s[0:2]"
   ]
  },
  {
   "cell_type": "code",
   "execution_count": 34,
   "id": "3572b8f8-23e3-49b3-a16e-b78c7e7c2f0d",
   "metadata": {},
   "outputs": [
    {
     "data": {
      "text/plain": [
       "'item'"
      ]
     },
     "execution_count": 34,
     "metadata": {},
     "output_type": "execute_result"
    }
   ],
   "source": [
    "s[18:]"
   ]
  },
  {
   "cell_type": "markdown",
   "id": "f54a8d0e-2d1b-4cd1-a2cc-65edd8dcd14e",
   "metadata": {},
   "source": [
    "7. concatenate two strings and print the result.\n"
   ]
  },
  {
   "cell_type": "code",
   "execution_count": 38,
   "id": "cf6f75aa-ee1d-4b3e-8c8f-2781dd572624",
   "metadata": {},
   "outputs": [],
   "source": [
    "a = \"my name is sathvika\"\n",
    "b = \" age 21\""
   ]
  },
  {
   "cell_type": "code",
   "execution_count": 39,
   "id": "e63339cd-8362-4e07-99b4-eab6c7e77803",
   "metadata": {},
   "outputs": [
    {
     "name": "stdout",
     "output_type": "stream",
     "text": [
      "my name is sathvika age 21\n"
     ]
    }
   ],
   "source": [
    "print(a + b)"
   ]
  },
  {
   "cell_type": "markdown",
   "id": "dd9ce8eb-5a9f-49c4-8591-f9aa0f441fe6",
   "metadata": {},
   "source": [
    "8. Check if a given string contains the word \"Python\".\n"
   ]
  },
  {
   "cell_type": "code",
   "execution_count": 101,
   "id": "cff8c1ef-003e-475c-8d0f-b190cde8b80d",
   "metadata": {},
   "outputs": [
    {
     "name": "stdout",
     "output_type": "stream",
     "text": [
      "python is present\n"
     ]
    }
   ],
   "source": [
    "q = \"python is a programming language\"\n",
    "if \"python\" in q:\n",
    "    print(\"python is present\")\n",
    "else:\n",
    "    print(\"python is not present\")"
   ]
  },
  {
   "cell_type": "markdown",
   "id": "a26ea62e-fea1-4f41-bc78-8d1b1affade9",
   "metadata": {},
   "source": [
    "9. Remove all spaces from a string and print the new string.\n"
   ]
  },
  {
   "cell_type": "code",
   "execution_count": 65,
   "id": "f0a513da-e65b-4fac-9a6a-fe0c6325ac4b",
   "metadata": {},
   "outputs": [
    {
     "data": {
      "text/plain": [
       "'aimnxt Institute hyderabad'"
      ]
     },
     "execution_count": 65,
     "metadata": {},
     "output_type": "execute_result"
    }
   ],
   "source": [
    "a = \"  aimnxt Institute hyderabad   \"\n",
    "a.strip()"
   ]
  },
  {
   "cell_type": "markdown",
   "id": "b07d4cf2-fbc6-4119-829d-f9a244921bab",
   "metadata": {},
   "source": [
    "10. Extract and print the first five characters of a string.\n",
    "\n"
   ]
  },
  {
   "cell_type": "code",
   "execution_count": 66,
   "id": "71b9626b-883c-47eb-be41-b2f7bcc492c6",
   "metadata": {},
   "outputs": [
    {
     "data": {
      "text/plain": [
       "'learn'"
      ]
     },
     "execution_count": 66,
     "metadata": {},
     "output_type": "execute_result"
    }
   ],
   "source": [
    "a = \"learning datascience in aimnxt\"\n",
    "a[0:5:1]"
   ]
  },
  {
   "cell_type": "markdown",
   "id": "fb3ccf10-1f73-4ed4-9af5-1c9880cce764",
   "metadata": {},
   "source": [
    "11 . Create a list of five numbers and print the list.\n"
   ]
  },
  {
   "cell_type": "code",
   "execution_count": 70,
   "id": "b1e77a22-81b9-4a3a-9a5b-38714df5f540",
   "metadata": {},
   "outputs": [
    {
     "data": {
      "text/plain": [
       "list"
      ]
     },
     "execution_count": 70,
     "metadata": {},
     "output_type": "execute_result"
    }
   ],
   "source": [
    "s = [1,4,3,56,76]\n",
    "type(s)"
   ]
  },
  {
   "cell_type": "markdown",
   "id": "fe1ffc55-c67a-438a-b271-463f0e29a2a7",
   "metadata": {},
   "source": [
    "12 . Print the third element of a given list."
   ]
  },
  {
   "cell_type": "code",
   "execution_count": 72,
   "id": "7c7c83ab-1e9e-44f0-8009-57ff155672b5",
   "metadata": {},
   "outputs": [
    {
     "data": {
      "text/plain": [
       "87"
      ]
     },
     "execution_count": 72,
     "metadata": {},
     "output_type": "execute_result"
    }
   ],
   "source": [
    "r = [4,56,87,89,32]\n",
    "r[2]"
   ]
  },
  {
   "cell_type": "markdown",
   "id": "d669aee4-687c-4b77-bae8-2f981fd33d16",
   "metadata": {},
   "source": [
    "13 . Replace the second element of a list with \"hello\".\n"
   ]
  },
  {
   "cell_type": "code",
   "execution_count": 92,
   "id": "8ec734dc-4005-4b24-bba7-b34103869a9d",
   "metadata": {},
   "outputs": [
    {
     "data": {
      "text/plain": [
       "[2, 'hello', 4, 5]"
      ]
     },
     "execution_count": 92,
     "metadata": {},
     "output_type": "execute_result"
    }
   ],
   "source": [
    "l = [2,3,4,5]\n",
    "l[1]=\"hello\"\n",
    "l"
   ]
  },
  {
   "cell_type": "markdown",
   "id": "c3b8e6fd-5d1a-4da7-ac4b-5d2f75282335",
   "metadata": {},
   "source": [
    "14. Add a new element to the end of a list."
   ]
  },
  {
   "cell_type": "code",
   "execution_count": 94,
   "id": "61242223-7ab0-4d45-b2e7-272fe89f9b23",
   "metadata": {},
   "outputs": [
    {
     "data": {
      "text/plain": [
       "[4, 'sathv', 'AI', 456, 'datascience']"
      ]
     },
     "execution_count": 94,
     "metadata": {},
     "output_type": "execute_result"
    }
   ],
   "source": [
    "l1 = [4,'sathv','AI',456]\n",
    "l1.append(\"datascience\")\n",
    "l1"
   ]
  },
  {
   "cell_type": "markdown",
   "id": "811e6541-ee1f-4853-a1c3-2548604cd88a",
   "metadata": {},
   "source": [
    "15. Remove the last element from a list and print the modified list.\n"
   ]
  },
  {
   "cell_type": "code",
   "execution_count": 95,
   "id": "9756c620-6a36-41f3-b461-55ab8a687cf6",
   "metadata": {},
   "outputs": [
    {
     "data": {
      "text/plain": [
       "['sathvi', 0.54, 'data']"
      ]
     },
     "execution_count": 95,
     "metadata": {},
     "output_type": "execute_result"
    }
   ],
   "source": [
    "t = ['sathvi',0.54,'data',45667]\n",
    "t.pop()\n",
    "t"
   ]
  },
  {
   "cell_type": "markdown",
   "id": "db99fd21-48bd-40bd-8f2d-defef169b9fd",
   "metadata": {},
   "source": [
    "16. Print each element of a list one by one using a loop.\n"
   ]
  },
  {
   "cell_type": "code",
   "execution_count": 4,
   "id": "3ea71124-9f02-4567-9f9c-70cc60ad3dc4",
   "metadata": {},
   "outputs": [
    {
     "name": "stdout",
     "output_type": "stream",
     "text": [
      "10\n",
      "20\n",
      "47\n",
      "sath\n"
     ]
    }
   ],
   "source": [
    "a = [10,20,47,'sath']\n",
    "for i in a:\n",
    "   print(i)"
   ]
  },
  {
   "cell_type": "markdown",
   "id": "e8b04be9-1006-4ece-832b-0d7b7710e58c",
   "metadata": {},
   "source": [
    "17. Check if the number 10 is in a given list."
   ]
  },
  {
   "cell_type": "code",
   "execution_count": 106,
   "id": "a292a202-5666-4e08-9a8b-8898366b2c0a",
   "metadata": {},
   "outputs": [
    {
     "name": "stdout",
     "output_type": "stream",
     "text": [
      "10 is present in the list\n"
     ]
    }
   ],
   "source": [
    "a= [15,75,90,10,45]\n",
    "if 10 in a:\n",
    "    print(\"10 is present in the list\")\n",
    "else:\n",
    "    print(\"10 is not present in the list\")"
   ]
  },
  {
   "cell_type": "markdown",
   "id": "f1f90483-011a-4d44-a07d-7c8727cc125a",
   "metadata": {},
   "source": [
    "18. Create two lists and join them into one."
   ]
  },
  {
   "cell_type": "code",
   "execution_count": 107,
   "id": "c0233b31-e363-4fd0-90f8-ac9c0b0213b0",
   "metadata": {},
   "outputs": [
    {
     "data": {
      "text/plain": [
       "['sath', 0.54, True, 23, 45, 67, 87]"
      ]
     },
     "execution_count": 107,
     "metadata": {},
     "output_type": "execute_result"
    }
   ],
   "source": [
    "a = [\"sath\",0.54,True]\n",
    "b = [23,45,67,87]\n",
    "a+b"
   ]
  },
  {
   "cell_type": "markdown",
   "id": "af3a237c-ad65-4b1a-8346-bcf8cffb870b",
   "metadata": {},
   "source": [
    "19. Print a list in reverse order without using slicing ([::-1])."
   ]
  },
  {
   "cell_type": "code",
   "execution_count": 102,
   "id": "49263304-0ba3-4f6b-81c2-91c3675ce54d",
   "metadata": {},
   "outputs": [
    {
     "data": {
      "text/plain": [
       "[78, 98, 87, 34]"
      ]
     },
     "execution_count": 102,
     "metadata": {},
     "output_type": "execute_result"
    }
   ],
   "source": [
    "c = [34,87,98,78]\n",
    "c[::-1]"
   ]
  },
  {
   "cell_type": "markdown",
   "id": "05871631-f8cb-446f-afaa-aa9774826454",
   "metadata": {},
   "source": [
    "20.Sort a list in ascending order without using .sort().\n"
   ]
  },
  {
   "cell_type": "code",
   "execution_count": 9,
   "id": "3a86d1ad-3960-48c2-a0ee-1a4257a1f433",
   "metadata": {},
   "outputs": [
    {
     "ename": "NameError",
     "evalue": "name 'sorted_list' is not defined",
     "output_type": "error",
     "traceback": [
      "\u001b[1;31m---------------------------------------------------------------------------\u001b[0m",
      "\u001b[1;31mNameError\u001b[0m                                 Traceback (most recent call last)",
      "Cell \u001b[1;32mIn[9], line 2\u001b[0m\n\u001b[0;32m      1\u001b[0m my_list \u001b[38;5;241m=\u001b[39m [\u001b[38;5;241m56\u001b[39m,\u001b[38;5;241m87\u001b[39m,\u001b[38;5;241m90\u001b[39m,\u001b[38;5;241m34\u001b[39m,\u001b[38;5;241m12\u001b[39m]\n\u001b[1;32m----> 2\u001b[0m sorted_list \u001b[38;5;241m=\u001b[39m sorted_list (my_list)\n\u001b[0;32m      3\u001b[0m \u001b[38;5;28mprint\u001b[39m (sorted_list)\n",
      "\u001b[1;31mNameError\u001b[0m: name 'sorted_list' is not defined"
     ]
    }
   ],
   "source": [
    "my_list = [56,87,90,34,12]\n",
    "sorted_list = sorted_list (my_list)\n",
    "print (sorted_list)\n"
   ]
  },
  {
   "cell_type": "markdown",
   "id": "22b90352-68ee-447a-a4df-21c3a05ad97e",
   "metadata": {},
   "source": [
    "21. Create a tuple of three colors and print it."
   ]
  },
  {
   "cell_type": "code",
   "execution_count": 120,
   "id": "cdb7706e-4ec6-418d-abc0-1d560757a7da",
   "metadata": {},
   "outputs": [
    {
     "data": {
      "text/plain": [
       "('blue', 'green', 'yellow')"
      ]
     },
     "execution_count": 120,
     "metadata": {},
     "output_type": "execute_result"
    }
   ],
   "source": [
    "a = ('blue','green','yellow')\n",
    "a"
   ]
  },
  {
   "cell_type": "markdown",
   "id": "161fed85-6ec7-4678-9c01-aa5b857bf893",
   "metadata": {},
   "source": [
    "22. Print the second element of a given tuple."
   ]
  },
  {
   "cell_type": "code",
   "execution_count": 121,
   "id": "f77a1aaf-833d-4ddf-a750-a418e22c624e",
   "metadata": {},
   "outputs": [
    {
     "data": {
      "text/plain": [
       "'sath'"
      ]
     },
     "execution_count": 121,
     "metadata": {},
     "output_type": "execute_result"
    }
   ],
   "source": [
    "s = (345,'sath',987)\n",
    "s[1]"
   ]
  },
  {
   "cell_type": "markdown",
   "id": "45f7495b-9357-4baf-8de9-604299644427",
   "metadata": {},
   "source": [
    "23. Try changing an element in a tuple (observe the error).\n"
   ]
  },
  {
   "cell_type": "code",
   "execution_count": 123,
   "id": "a6939fb9-95b8-4b3d-a5ef-4fe27ab78e50",
   "metadata": {},
   "outputs": [
    {
     "ename": "AttributeError",
     "evalue": "'tuple' object has no attribute 'replace'",
     "output_type": "error",
     "traceback": [
      "\u001b[1;31m---------------------------------------------------------------------------\u001b[0m",
      "\u001b[1;31mAttributeError\u001b[0m                            Traceback (most recent call last)",
      "Cell \u001b[1;32mIn[123], line 2\u001b[0m\n\u001b[0;32m      1\u001b[0m s \u001b[38;5;241m=\u001b[39m (\u001b[38;5;124m'\u001b[39m\u001b[38;5;124msath\u001b[39m\u001b[38;5;124m'\u001b[39m,\u001b[38;5;241m56\u001b[39m,\u001b[38;5;124m'\u001b[39m\u001b[38;5;124mgreyy\u001b[39m\u001b[38;5;124m'\u001b[39m,\u001b[38;5;241m5667\u001b[39m)\n\u001b[1;32m----> 2\u001b[0m s\u001b[38;5;241m.\u001b[39mreplace(\u001b[38;5;124m'\u001b[39m\u001b[38;5;124m56\u001b[39m\u001b[38;5;124m'\u001b[39m,\u001b[38;5;124m'\u001b[39m\u001b[38;5;124mvika\u001b[39m\u001b[38;5;124m'\u001b[39m)\n\u001b[0;32m      3\u001b[0m s[\u001b[38;5;241m56\u001b[39m]\u001b[38;5;241m=\u001b[39m\u001b[38;5;124m'\u001b[39m\u001b[38;5;124mvika\u001b[39m\u001b[38;5;124m'\u001b[39m\n",
      "\u001b[1;31mAttributeError\u001b[0m: 'tuple' object has no attribute 'replace'"
     ]
    }
   ],
   "source": [
    "s = ('sath',56,'greyy',5667)\n",
    "s.replace('56','vika')\n",
    "s[56]='vika'"
   ]
  },
  {
   "cell_type": "markdown",
   "id": "c8e6eb8a-3d13-4431-95d4-7cb68dbfec21",
   "metadata": {},
   "source": [
    "24. Convert a tuple to a list and print it."
   ]
  },
  {
   "cell_type": "code",
   "execution_count": 129,
   "id": "98eb4e4f-48c6-4b0b-8fe2-9d119abddf6f",
   "metadata": {},
   "outputs": [
    {
     "data": {
      "text/plain": [
       "['aimnxt', 56, 87, 9, 345]"
      ]
     },
     "execution_count": 129,
     "metadata": {},
     "output_type": "execute_result"
    }
   ],
   "source": [
    "a = (\"aimnxt\",56,87,9,345)\n",
    "list(a)"
   ]
  },
  {
   "cell_type": "markdown",
   "id": "698e0445-8a99-4ffc-b1aa-8fe864c98dc8",
   "metadata": {},
   "source": [
    "26. Check if \"blue\" exists in a given tuple."
   ]
  },
  {
   "cell_type": "code",
   "execution_count": 138,
   "id": "7bda9d64-3f46-4097-851c-c2ac41250392",
   "metadata": {},
   "outputs": [
    {
     "name": "stdout",
     "output_type": "stream",
     "text": [
      "blue is present in the list\n"
     ]
    }
   ],
   "source": [
    "a = (567,'blue',456,876)\n",
    "if 'blue' in a:\n",
    "    print(\"blue is present in the list\")\n",
    "else:\n",
    "    print(\"blue is not present in the list\")"
   ]
  },
  {
   "cell_type": "markdown",
   "id": "7e1510dd-038c-4d86-9bed-6433794c0d87",
   "metadata": {},
   "source": [
    "27.Print each element of a tuple using a loop."
   ]
  },
  {
   "cell_type": "code",
   "execution_count": 14,
   "id": "e37ffb8a-652a-43e3-aec6-aa2748af0bb5",
   "metadata": {},
   "outputs": [
    {
     "name": "stdout",
     "output_type": "stream",
     "text": [
      "(1, 2, 3, 4)\n",
      "(1, 2, 3, 4)\n",
      "(1, 2, 3, 4)\n",
      "(1, 2, 3, 4)\n"
     ]
    }
   ],
   "source": [
    "a=(1,2,3,4)\n",
    "for i in a:\n",
    " print(a)"
   ]
  },
  {
   "cell_type": "markdown",
   "id": "b6b6df9d-aa86-48d1-91fc-b623f6a96a27",
   "metadata": {},
   "source": [
    "28.Print a tuple in reverse order."
   ]
  },
  {
   "cell_type": "code",
   "execution_count": 148,
   "id": "49d6ed28-3e07-4017-aa47-5bfd606b3dfc",
   "metadata": {},
   "outputs": [
    {
     "data": {
      "text/plain": [
       "(9887, 78, 89, 56)"
      ]
     },
     "execution_count": 148,
     "metadata": {},
     "output_type": "execute_result"
    }
   ],
   "source": [
    "a=(56,89,78,9887)\n",
    "a[::-1]"
   ]
  },
  {
   "cell_type": "markdown",
   "id": "9db95ed5-0161-4df7-934c-1203b65d10fa",
   "metadata": {},
   "source": [
    "29.Find the length of a tuple without using len().\n"
   ]
  },
  {
   "cell_type": "code",
   "execution_count": 17,
   "id": "24e1e5e8-6697-41c9-a4b8-50774b2eecf7",
   "metadata": {},
   "outputs": [
    {
     "data": {
      "text/plain": [
       "4"
      ]
     },
     "execution_count": 17,
     "metadata": {},
     "output_type": "execute_result"
    }
   ],
   "source": [
    "a=(\"python\",678,456,\"dta\")\n",
    "len(a)"
   ]
  },
  {
   "cell_type": "markdown",
   "id": "eca11d5f-2673-4dd3-a9ed-b26b1ec81866",
   "metadata": {},
   "source": [
    "30.Create a tuple with a single element and print its type.\n",
    "\n"
   ]
  },
  {
   "cell_type": "code",
   "execution_count": 158,
   "id": "9a814340-b583-40ee-8aa7-8d66d6ac0c3b",
   "metadata": {},
   "outputs": [
    {
     "data": {
      "text/plain": [
       "str"
      ]
     },
     "execution_count": 158,
     "metadata": {},
     "output_type": "execute_result"
    }
   ],
   "source": [
    "a=(\"sathvika\")\n",
    "type(a)"
   ]
  },
  {
   "cell_type": "markdown",
   "id": "fe11ef14-2582-4cda-874f-052f5f2a6405",
   "metadata": {},
   "source": [
    "31. Create a string \"Hello, World!\" and print only \"World!\".\n"
   ]
  },
  {
   "cell_type": "code",
   "execution_count": 161,
   "id": "95331ec9-2a1b-4657-ab69-a112817ec25f",
   "metadata": {},
   "outputs": [],
   "source": [
    "s = (\"Hello World\")"
   ]
  },
  {
   "cell_type": "code",
   "execution_count": 164,
   "id": "38c1a6f6-bc0e-421a-8c99-45f9074ca75e",
   "metadata": {},
   "outputs": [
    {
     "data": {
      "text/plain": [
       "'World'"
      ]
     },
     "execution_count": 164,
     "metadata": {},
     "output_type": "execute_result"
    }
   ],
   "source": [
    "s[6:12]"
   ]
  },
  {
   "cell_type": "code",
   "execution_count": null,
   "id": "3d9b78c5-f834-40d5-97e5-5d27fe3a1e5e",
   "metadata": {},
   "outputs": [],
   "source": []
  },
  {
   "cell_type": "markdown",
   "id": "67b9f550-f86a-49aa-b883-dddce3b9c730",
   "metadata": {},
   "source": [
    "32..Convert \"Python is fun\" to \"PYTHON IS FUN\" without using .upper().\n"
   ]
  },
  {
   "cell_type": "markdown",
   "id": "c96179f8-c63c-4ae0-a1fe-2ffa32d4bcf7",
   "metadata": {},
   "source": [
    "33.Count how many words are in \"I love learning Python\" (without using .split()).\n"
   ]
  },
  {
   "cell_type": "code",
   "execution_count": 166,
   "id": "5726b816-974b-4a14-a9fb-1e7e6146e632",
   "metadata": {},
   "outputs": [
    {
     "data": {
      "text/plain": [
       "22"
      ]
     },
     "execution_count": 166,
     "metadata": {},
     "output_type": "execute_result"
    }
   ],
   "source": [
    "a= \"I love learning Python\"\n",
    "len(a)"
   ]
  },
  {
   "cell_type": "markdown",
   "id": "7d0d2cef-a5af-47ec-857f-5ba4d7096e38",
   "metadata": {},
   "source": [
    "34.Take a string input from the user and check if it starts with \"Hello\".\n",
    "\n"
   ]
  },
  {
   "cell_type": "code",
   "execution_count": 167,
   "id": "d78c21c2-32af-4e58-8530-0159828f2d2e",
   "metadata": {},
   "outputs": [
    {
     "data": {
      "text/plain": [
       "True"
      ]
     },
     "execution_count": 167,
     "metadata": {},
     "output_type": "execute_result"
    }
   ],
   "source": [
    "s=\"hello world\"\n",
    "s.startswith(\"hello\")"
   ]
  },
  {
   "cell_type": "markdown",
   "id": "6ee66227-b7c0-4f42-ae4a-0981e5e05f94",
   "metadata": {},
   "source": [
    "35.Print every second character of a string"
   ]
  },
  {
   "cell_type": "code",
   "execution_count": 170,
   "id": "d1d4e0a2-ace3-42f3-aa3a-70cb0e98ffcf",
   "metadata": {},
   "outputs": [
    {
     "data": {
      "text/plain": [
       "'aaSineA int'"
      ]
     },
     "execution_count": 170,
     "metadata": {},
     "output_type": "execute_result"
    }
   ],
   "source": [
    "a = \"Data Science At Aimnxt\"\n",
    "a[1::2]"
   ]
  },
  {
   "cell_type": "markdown",
   "id": "01d59416-6f4e-40d5-8379-c6bd4f7c53cf",
   "metadata": {},
   "source": [
    "36.Replace all vowels in a string with \"*\""
   ]
  },
  {
   "cell_type": "code",
   "execution_count": 19,
   "id": "5ccf5669-2ea1-4195-9451-1908456ea809",
   "metadata": {},
   "outputs": [
    {
     "data": {
      "text/plain": [
       "'umbrellaa'"
      ]
     },
     "execution_count": 19,
     "metadata": {},
     "output_type": "execute_result"
    }
   ],
   "source": [
    "a = \"umbrellaa\"\n",
    "vowels = \"a,e,i,o,u\"\n",
    "a.replace('*',\"vowels\")"
   ]
  },
  {
   "cell_type": "code",
   "execution_count": null,
   "id": "23fbd967-f7da-4ba5-8d0c-c8616e775db5",
   "metadata": {},
   "outputs": [],
   "source": []
  },
  {
   "cell_type": "markdown",
   "id": "7c747043-c71a-42c9-b85f-775b5f69e048",
   "metadata": {},
   "source": [
    "37.Swap the first and last character of a string.\n"
   ]
  },
  {
   "cell_type": "code",
   "execution_count": 22,
   "id": "3a920190-c24c-485d-ad7b-af420e7e3955",
   "metadata": {},
   "outputs": [
    {
     "data": {
      "text/plain": [
       "'aathviks'"
      ]
     },
     "execution_count": 22,
     "metadata": {},
     "output_type": "execute_result"
    }
   ],
   "source": [
    "a=\"sathvika\"\n",
    "a[-1] + a[1:-1] + a[0]"
   ]
  },
  {
   "cell_type": "code",
   "execution_count": null,
   "id": "e6997fc2-458e-4d20-8dbb-2482db0fb8c1",
   "metadata": {},
   "outputs": [],
   "source": []
  },
  {
   "cell_type": "markdown",
   "id": "d025d5a0-ec09-410f-bdc3-1057509413e7",
   "metadata": {},
   "source": [
    "38.Check if two given strings are the same (case-sensitive)."
   ]
  },
  {
   "cell_type": "code",
   "execution_count": 24,
   "id": "6193a62e-5cec-4beb-b3f1-ec9dc08df95e",
   "metadata": {},
   "outputs": [
    {
     "name": "stdout",
     "output_type": "stream",
     "text": [
      "a is case sensitive\n"
     ]
    }
   ],
   "source": [
    "a=\"Sathvika\"\n",
    "if a==\"sathvika\":\n",
    "    print(\"a is not case sensitive\")\n",
    "else:\n",
    "    print(\"a is case sensitive\")\n",
    "     "
   ]
  },
  {
   "cell_type": "code",
   "execution_count": null,
   "id": "17fdeed6-91f4-494c-b0ee-6b37b0ac589b",
   "metadata": {},
   "outputs": [],
   "source": []
  },
  {
   "cell_type": "markdown",
   "id": "9058f337-a2b0-4c4f-a3b1-ad8a92d4177c",
   "metadata": {},
   "source": [
    "39.Print a string without the first and last character."
   ]
  },
  {
   "cell_type": "code",
   "execution_count": 26,
   "id": "09e92eda-f77e-4279-9c62-0b867fcad31b",
   "metadata": {},
   "outputs": [
    {
     "data": {
      "text/plain": [
       "'atascienc'"
      ]
     },
     "execution_count": 26,
     "metadata": {},
     "output_type": "execute_result"
    }
   ],
   "source": [
    "s=\"Datascience\"\n",
    "s[1:10]"
   ]
  },
  {
   "cell_type": "code",
   "execution_count": null,
   "id": "27afa8a1-dbb3-4552-8eb0-5281a986dae0",
   "metadata": {},
   "outputs": [],
   "source": []
  },
  {
   "cell_type": "markdown",
   "id": "cf37feb9-1961-4a5b-8923-62fe85d7aff7",
   "metadata": {},
   "source": [
    "40.Convert a string \"12345\" into a list of individual characters."
   ]
  },
  {
   "cell_type": "code",
   "execution_count": 27,
   "id": "c6027237-cc57-42bc-920d-c9f12634c761",
   "metadata": {},
   "outputs": [
    {
     "data": {
      "text/plain": [
       "list['12345']"
      ]
     },
     "execution_count": 27,
     "metadata": {},
     "output_type": "execute_result"
    }
   ],
   "source": [
    "a=\"12345\"\n",
    "list[a]"
   ]
  },
  {
   "cell_type": "code",
   "execution_count": null,
   "id": "347137a2-1143-4f91-9599-6097ec4ade3e",
   "metadata": {},
   "outputs": [],
   "source": []
  },
  {
   "cell_type": "markdown",
   "id": "3b34998a-8eea-4df8-a953-828b4af1b2cd",
   "metadata": {},
   "source": [
    "41.Create a list of five cities and print only the last three."
   ]
  },
  {
   "cell_type": "code",
   "execution_count": 28,
   "id": "c738234b-5804-476d-88ef-1a9f88c5e09c",
   "metadata": {},
   "outputs": [
    {
     "data": {
      "text/plain": [
       "['hyderabad', 'mumbai', 'gujarat']"
      ]
     },
     "execution_count": 28,
     "metadata": {},
     "output_type": "execute_result"
    }
   ],
   "source": [
    "s=['assam','delhi','hyderabad','mumbai','gujarat']\n",
    "s[2:]"
   ]
  },
  {
   "cell_type": "code",
   "execution_count": null,
   "id": "99eecfe2-9b72-41a8-960f-a78bbc7e76c6",
   "metadata": {},
   "outputs": [],
   "source": []
  },
  {
   "cell_type": "markdown",
   "id": "bc8dd78d-6922-41f9-894e-c0c2d60e5b0c",
   "metadata": {},
   "source": [
    "42 . Remove the middle element from a list of five elements."
   ]
  },
  {
   "cell_type": "code",
   "execution_count": 38,
   "id": "b88d9710-a5b1-4712-8d8a-39e2ea3bde9d",
   "metadata": {
    "scrolled": true
   },
   "outputs": [
    {
     "data": {
      "text/plain": [
       "4"
      ]
     },
     "execution_count": 38,
     "metadata": {},
     "output_type": "execute_result"
    }
   ],
   "source": [
    "s = [2,3,4,5,6]\n",
    "s.pop(2)"
   ]
  },
  {
   "cell_type": "code",
   "execution_count": 40,
   "id": "c02a7d49-32dd-497f-8731-24942782f7df",
   "metadata": {},
   "outputs": [
    {
     "data": {
      "text/plain": [
       "[2, 3, 5, 6]"
      ]
     },
     "execution_count": 40,
     "metadata": {},
     "output_type": "execute_result"
    }
   ],
   "source": [
    "s"
   ]
  },
  {
   "cell_type": "code",
   "execution_count": null,
   "id": "237d86c6-f439-4475-affa-8b60488f7134",
   "metadata": {},
   "outputs": [],
   "source": []
  },
  {
   "cell_type": "markdown",
   "id": "545da746-62c5-4754-b53f-6cfc652b5535",
   "metadata": {},
   "source": [
    "43.Take five numbers from the user and store them in a list."
   ]
  },
  {
   "cell_type": "code",
   "execution_count": 45,
   "id": "e5c3594e-073f-4fd4-9f79-d0745a50c9ed",
   "metadata": {},
   "outputs": [
    {
     "name": "stdin",
     "output_type": "stream",
     "text": [
      "please enter the value 2\n",
      "please enter the value 3\n",
      "please enter the value 4\n"
     ]
    },
    {
     "ename": "TypeError",
     "evalue": "'int' object is not iterable",
     "output_type": "error",
     "traceback": [
      "\u001b[1;31m---------------------------------------------------------------------------\u001b[0m",
      "\u001b[1;31mTypeError\u001b[0m                                 Traceback (most recent call last)",
      "Cell \u001b[1;32mIn[45], line 6\u001b[0m\n\u001b[0;32m      3\u001b[0m num3\u001b[38;5;241m=\u001b[39m\u001b[38;5;28mint\u001b[39m(\u001b[38;5;28minput\u001b[39m(\u001b[38;5;124m\"\u001b[39m\u001b[38;5;124mplease enter the value\u001b[39m\u001b[38;5;124m\"\u001b[39m))\n\u001b[0;32m      5\u001b[0m l1\u001b[38;5;241m=\u001b[39m[]\n\u001b[1;32m----> 6\u001b[0m \u001b[38;5;28;01mfor\u001b[39;00m i \u001b[38;5;129;01min\u001b[39;00m num1\u001b[38;5;241m&\u001b[39mnum2\u001b[38;5;241m&\u001b[39mnum3:\n\u001b[0;32m      7\u001b[0m     \u001b[38;5;28;01mif\u001b[39;00m \u001b[38;5;28mtype\u001b[39m(i)\u001b[38;5;241m==\u001b[39m\u001b[38;5;28mint\u001b[39m:\n\u001b[0;32m      8\u001b[0m         l1\u001b[38;5;241m=\u001b[39ml1\u001b[38;5;241m+\u001b[39m[i]         \u001b[38;5;66;03m#l1.append(i)\u001b[39;00m\n",
      "\u001b[1;31mTypeError\u001b[0m: 'int' object is not iterable"
     ]
    }
   ],
   "source": [
    "num1=int(input(\"please enter the value\"))\n",
    "num2=int(input(\"please enter the value\"))\n",
    "num3=int(input(\"please enter the value\"))\n",
    "\n",
    "l1=[]\n",
    "for i in num1&num2&num3:\n",
    "    if type(i)==int:\n",
    "        l1=l1+[i]         #l1.append(i)\n",
    "print(l1)        \n"
   ]
  },
  {
   "cell_type": "code",
   "execution_count": null,
   "id": "1d49a92f-be78-453e-af75-f411d31b2b1c",
   "metadata": {},
   "outputs": [],
   "source": []
  },
  {
   "cell_type": "markdown",
   "id": "3b4e2860-1708-40ae-a901-f39d6809193b",
   "metadata": {},
   "source": [
    "44.Find the index of \"apple\" in the list [\"banana\", \"orange\", \"apple\", \"grape\"]."
   ]
  },
  {
   "cell_type": "code",
   "execution_count": 1,
   "id": "a773ba3b-21df-4d5c-9d4e-f306de0437e4",
   "metadata": {},
   "outputs": [
    {
     "name": "stdout",
     "output_type": "stream",
     "text": [
      "Index of 'apple': 2\n"
     ]
    }
   ],
   "source": [
    "fruits = [\"banana\", \"orange\", \"apple\", \"grape\"]\n",
    "index = fruits.index(\"apple\")\n",
    "print(\"Index of 'apple':\", index)"
   ]
  },
  {
   "cell_type": "code",
   "execution_count": null,
   "id": "c0bd54a9-b7c5-46ca-be5d-f00534d90d1b",
   "metadata": {},
   "outputs": [],
   "source": []
  },
  {
   "cell_type": "markdown",
   "id": "74c44f50-5330-40d5-9b0a-e9162e1b617c",
   "metadata": {},
   "source": [
    "45.Print only the even numbers from a given list."
   ]
  },
  {
   "cell_type": "code",
   "execution_count": 10,
   "id": "7bc86d96-4379-45f4-98c2-3aa198d0b51b",
   "metadata": {},
   "outputs": [
    {
     "name": "stdout",
     "output_type": "stream",
     "text": [
      "2\n",
      "4\n",
      "6\n"
     ]
    }
   ],
   "source": [
    "a=[1,2,3,4,45,6,7]\n",
    "for num in a:\n",
    "  if num % 2 == 0:\n",
    "   print(num)"
   ]
  },
  {
   "cell_type": "code",
   "execution_count": null,
   "id": "314c5b12-b37a-4d50-be17-3f8fa5cde768",
   "metadata": {},
   "outputs": [],
   "source": []
  },
  {
   "cell_type": "markdown",
   "id": "ef1f75eb-1acb-42a2-90b6-3aa6e3b4d3d3",
   "metadata": {},
   "source": [
    "46. Reverse a list by swapping elements (without [::-1]).\n"
   ]
  },
  {
   "cell_type": "code",
   "execution_count": 19,
   "id": "08d4379b-ca5c-4882-b748-f6b9e6323209",
   "metadata": {},
   "outputs": [
    {
     "name": "stdout",
     "output_type": "stream",
     "text": [
      "reversed list: [5, 4, 3, 2, 1]\n"
     ]
    }
   ],
   "source": [
    "numbers = [1, 2, 3, 4, 5]\n",
    "n = len(numbers)\n",
    "for i in range(n // 2):\n",
    "    numbers[i], numbers[n - 1 - i] = numbers[n - 1 - i], numbers[i]\n",
    "print(\"reversed list:\",numbers)"
   ]
  },
  {
   "cell_type": "code",
   "execution_count": null,
   "id": "13f940c9-834e-4376-9f24-ebf773b7b7ef",
   "metadata": {},
   "outputs": [],
   "source": []
  },
  {
   "cell_type": "markdown",
   "id": "df16975d-f088-4d44-b29f-c570045b9cd7",
   "metadata": {},
   "source": [
    "47.Create a list of ten numbers and print only the unique elements.\n",
    "\n",
    "\n"
   ]
  },
  {
   "cell_type": "code",
   "execution_count": 4,
   "id": "72eee40a-1f33-46aa-b38b-c829885fffed",
   "metadata": {},
   "outputs": [
    {
     "name": "stdout",
     "output_type": "stream",
     "text": [
      "[1, 2, 8]\n"
     ]
    }
   ],
   "source": [
    "s = [3, 5, 3, 5, 9, 5, 1, 2, 9, 8]\n",
    "unique = []\n",
    "\n",
    "for i in s:\n",
    "    if s.count(i) == 1:\n",
    "        unique.append(i)\n",
    "\n",
    "print(unique)\n"
   ]
  },
  {
   "cell_type": "code",
   "execution_count": null,
   "id": "c9d5bce1-c0e7-4a6a-81b8-c10bd0323c41",
   "metadata": {},
   "outputs": [],
   "source": []
  },
  {
   "cell_type": "markdown",
   "id": "f8832054-90ca-4eb4-bc24-a88f0be56a7b",
   "metadata": {},
   "source": [
    "48.Print the sum of all elements in a list (without using sum()).\n"
   ]
  },
  {
   "cell_type": "code",
   "execution_count": 11,
   "id": "d3e3c64a-a2cb-4226-a88e-7ec242b2a211",
   "metadata": {},
   "outputs": [
    {
     "name": "stdout",
     "output_type": "stream",
     "text": [
      "Sum: 25\n"
     ]
    }
   ],
   "source": [
    "s = [3, 5, 7, 2, 8]\n",
    "\n",
    "total=0\n",
    "for i in s:\n",
    "    total += i\n",
    "\n",
    "print(\"Sum:\", total)\n"
   ]
  },
  {
   "cell_type": "code",
   "execution_count": null,
   "id": "d7922b6e-b4e1-4a8e-8426-d606c4f7f170",
   "metadata": {},
   "outputs": [],
   "source": []
  },
  {
   "cell_type": "markdown",
   "id": "82b90a00-29bb-49d1-a3ef-f2bb812d4b12",
   "metadata": {},
   "source": [
    "49.Move the first element of a list to the last position.\n",
    "\n"
   ]
  },
  {
   "cell_type": "code",
   "execution_count": 12,
   "id": "6eba4a29-fdd8-4059-bd72-f1c3bec4aadc",
   "metadata": {},
   "outputs": [
    {
     "data": {
      "text/plain": [
       "[2, 3, 4, 5, 6, 7, 1]"
      ]
     },
     "execution_count": 12,
     "metadata": {},
     "output_type": "execute_result"
    }
   ],
   "source": [
    "a=[1,2,3,4,5,6,7]\n",
    "a[1:]+a[:1]"
   ]
  },
  {
   "cell_type": "code",
   "execution_count": null,
   "id": "312bb66a-8473-4650-824d-ec248ae0026e",
   "metadata": {},
   "outputs": [],
   "source": []
  },
  {
   "cell_type": "markdown",
   "id": "7b451198-ce57-4147-9ba1-8abfb1cc4359",
   "metadata": {},
   "source": [
    "50.Create a list with mixed data types (int, float, string) and print each element with its type.\n"
   ]
  },
  {
   "cell_type": "code",
   "execution_count": 13,
   "id": "08920b24-5519-4bc5-9253-55531849e1c1",
   "metadata": {},
   "outputs": [],
   "source": [
    "a=[\"sathvika\",(2,3,4),56.37,546]"
   ]
  },
  {
   "cell_type": "code",
   "execution_count": 14,
   "id": "dc68f68b-1dc5-4350-81c7-61cd933def56",
   "metadata": {},
   "outputs": [
    {
     "data": {
      "text/plain": [
       "str"
      ]
     },
     "execution_count": 14,
     "metadata": {},
     "output_type": "execute_result"
    }
   ],
   "source": [
    "type(a[0])"
   ]
  },
  {
   "cell_type": "code",
   "execution_count": 15,
   "id": "f6ac2c02-702d-4c21-8625-84a2da32ba7e",
   "metadata": {},
   "outputs": [
    {
     "data": {
      "text/plain": [
       "tuple"
      ]
     },
     "execution_count": 15,
     "metadata": {},
     "output_type": "execute_result"
    }
   ],
   "source": [
    "type(a[1])"
   ]
  },
  {
   "cell_type": "code",
   "execution_count": 17,
   "id": "961750bb-318d-4c00-b94f-71e7cbc39ced",
   "metadata": {},
   "outputs": [
    {
     "data": {
      "text/plain": [
       "float"
      ]
     },
     "execution_count": 17,
     "metadata": {},
     "output_type": "execute_result"
    }
   ],
   "source": [
    "type(a[2])"
   ]
  },
  {
   "cell_type": "code",
   "execution_count": 18,
   "id": "45dc963d-9c7f-486d-b3d5-8f3f5b9c82fa",
   "metadata": {},
   "outputs": [
    {
     "data": {
      "text/plain": [
       "int"
      ]
     },
     "execution_count": 18,
     "metadata": {},
     "output_type": "execute_result"
    }
   ],
   "source": [
    "type(a[3])"
   ]
  },
  {
   "cell_type": "code",
   "execution_count": null,
   "id": "d63815e9-17a1-4510-b1b6-9ba59948ad77",
   "metadata": {},
   "outputs": [],
   "source": []
  },
  {
   "cell_type": "markdown",
   "id": "04ea68dd-3729-4420-873d-f76f0ce08f8a",
   "metadata": {},
   "source": [
    "51.Create a tuple of five numbers and print only the first three.\n"
   ]
  },
  {
   "cell_type": "code",
   "execution_count": 20,
   "id": "42804416-36c7-4597-84c3-2954a084afc3",
   "metadata": {},
   "outputs": [],
   "source": [
    "a=(5,3,56,87,12)"
   ]
  },
  {
   "cell_type": "code",
   "execution_count": 21,
   "id": "accf6603-d91b-4903-8872-ff2439ada232",
   "metadata": {},
   "outputs": [
    {
     "data": {
      "text/plain": [
       "(5, 3, 56)"
      ]
     },
     "execution_count": 21,
     "metadata": {},
     "output_type": "execute_result"
    }
   ],
   "source": [
    "a[0:3]"
   ]
  },
  {
   "cell_type": "code",
   "execution_count": null,
   "id": "553221cb-0ebb-457a-99c0-6ca0839b308b",
   "metadata": {},
   "outputs": [],
   "source": []
  },
  {
   "cell_type": "markdown",
   "id": "b8b3b544-b2fe-4523-bf02-9dec7aa5048e",
   "metadata": {},
   "source": [
    "52..Print the last element of a tuple without using negative indexing."
   ]
  },
  {
   "cell_type": "code",
   "execution_count": 22,
   "id": "63177b26-4687-4767-b869-d74fc25884c4",
   "metadata": {},
   "outputs": [
    {
     "data": {
      "text/plain": [
       "5"
      ]
     },
     "execution_count": 22,
     "metadata": {},
     "output_type": "execute_result"
    }
   ],
   "source": [
    "a=(3,5,76,85,9)\n",
    "len(a)"
   ]
  },
  {
   "cell_type": "code",
   "execution_count": 24,
   "id": "431e87bf-f852-4a00-a0ce-719ead8b1fe8",
   "metadata": {},
   "outputs": [
    {
     "data": {
      "text/plain": [
       "9"
      ]
     },
     "execution_count": 24,
     "metadata": {},
     "output_type": "execute_result"
    }
   ],
   "source": [
    "a[4]"
   ]
  },
  {
   "cell_type": "code",
   "execution_count": null,
   "id": "abb7509e-edba-4b43-a010-277769ca12a4",
   "metadata": {},
   "outputs": [],
   "source": []
  },
  {
   "cell_type": "markdown",
   "id": "8f27cc42-521f-42e5-b39c-09aa7818372a",
   "metadata": {},
   "source": [
    "53.Convert a tuple (1, 2, 3, 4, 5) into a list and add a new number."
   ]
  },
  {
   "cell_type": "code",
   "execution_count": 25,
   "id": "72989916-71f8-4a10-aa49-ac94f9bada78",
   "metadata": {},
   "outputs": [],
   "source": [
    "a=(1,2,3,4,5)"
   ]
  },
  {
   "cell_type": "code",
   "execution_count": 28,
   "id": "bbe2a416-6815-43bd-90d1-785777d6262a",
   "metadata": {},
   "outputs": [],
   "source": [
    "a=list(a)"
   ]
  },
  {
   "cell_type": "code",
   "execution_count": 29,
   "id": "8400ff85-f7ff-4f4a-939a-bc34ad3bda0f",
   "metadata": {},
   "outputs": [
    {
     "data": {
      "text/plain": [
       "[1, 2, 3, 4, 5]"
      ]
     },
     "execution_count": 29,
     "metadata": {},
     "output_type": "execute_result"
    }
   ],
   "source": [
    "a"
   ]
  },
  {
   "cell_type": "code",
   "execution_count": 30,
   "id": "6f4ea48b-8069-4040-bd44-402d98f80ce1",
   "metadata": {},
   "outputs": [],
   "source": [
    "a.append(4)"
   ]
  },
  {
   "cell_type": "code",
   "execution_count": 31,
   "id": "b5aebf16-59d9-4db4-9baf-12dc161e89d0",
   "metadata": {},
   "outputs": [
    {
     "data": {
      "text/plain": [
       "[1, 2, 3, 4, 5, 4]"
      ]
     },
     "execution_count": 31,
     "metadata": {},
     "output_type": "execute_result"
    }
   ],
   "source": [
    "a"
   ]
  },
  {
   "cell_type": "code",
   "execution_count": null,
   "id": "0c1f2b2e-3029-4e53-9fb1-7d75e53bee6b",
   "metadata": {},
   "outputs": [],
   "source": []
  },
  {
   "cell_type": "markdown",
   "id": "c45e20a0-a670-43ad-a619-17caba7b7f7a",
   "metadata": {},
   "source": [
    "54.Try deleting an element from a tuple and observe the error.\n",
    "\n"
   ]
  },
  {
   "cell_type": "code",
   "execution_count": 33,
   "id": "e95bdc07-35cd-4997-825a-5efe7ffa9425",
   "metadata": {},
   "outputs": [
    {
     "ename": "NameError",
     "evalue": "name 'pop' is not defined",
     "output_type": "error",
     "traceback": [
      "\u001b[1;31m---------------------------------------------------------------------------\u001b[0m",
      "\u001b[1;31mNameError\u001b[0m                                 Traceback (most recent call last)",
      "Cell \u001b[1;32mIn[33], line 2\u001b[0m\n\u001b[0;32m      1\u001b[0m s\u001b[38;5;241m=\u001b[39m(\u001b[38;5;241m34\u001b[39m,\u001b[38;5;241m67\u001b[39m,\u001b[38;5;241m89\u001b[39m,\u001b[38;5;241m12\u001b[39m,\u001b[38;5;124m\"\u001b[39m\u001b[38;5;124msath\u001b[39m\u001b[38;5;124m\"\u001b[39m)\n\u001b[1;32m----> 2\u001b[0m pop()\n",
      "\u001b[1;31mNameError\u001b[0m: name 'pop' is not defined"
     ]
    }
   ],
   "source": [
    "s=(34,67,89,12,\"sath\")\n",
    "pop()"
   ]
  },
  {
   "cell_type": "code",
   "execution_count": null,
   "id": "196f0e72-4508-43d1-a157-8f5bc3dfcffb",
   "metadata": {},
   "outputs": [],
   "source": []
  },
  {
   "cell_type": "markdown",
   "id": "e722aead-8ea0-4be8-8185-fb3f254445f8",
   "metadata": {},
   "source": [
    "55.Extract the middle element from a tuple with an odd number of elements.\n"
   ]
  },
  {
   "cell_type": "code",
   "execution_count": 42,
   "id": "3478cf87-6328-4d4c-9eb8-af2d0c1e7f11",
   "metadata": {},
   "outputs": [
    {
     "name": "stdout",
     "output_type": "stream",
     "text": [
      "data\n"
     ]
    }
   ],
   "source": [
    "a=(45,\"sath\",\"data\",678,340)\n",
    "middle=a[len(a)//2]\n",
    "print(middle)\n"
   ]
  },
  {
   "cell_type": "code",
   "execution_count": null,
   "id": "938b4eb1-d415-481b-95af-76408be09c87",
   "metadata": {},
   "outputs": [],
   "source": []
  },
  {
   "cell_type": "markdown",
   "id": "af9149ea-e245-4252-bfcb-c68ea53d3293",
   "metadata": {},
   "source": [
    "56.Check if two tuples (1, 2, 3) and (3, 2, 1) are the same."
   ]
  },
  {
   "cell_type": "code",
   "execution_count": 43,
   "id": "b5d18709-9960-4f3f-b9fd-f53c495ffc3c",
   "metadata": {},
   "outputs": [
    {
     "name": "stdout",
     "output_type": "stream",
     "text": [
      "both are different\n"
     ]
    }
   ],
   "source": [
    "a=(1,2,3)\n",
    "b=(3,2,1)\n",
    "if a==b:\n",
    "    print(\"both the tuples are same\")\n",
    "else:\n",
    "    print(\"both are different\")"
   ]
  },
  {
   "cell_type": "code",
   "execution_count": null,
   "id": "766d5383-5409-49d8-8534-a0c42b48b907",
   "metadata": {},
   "outputs": [],
   "source": []
  },
  {
   "cell_type": "markdown",
   "id": "849c17e7-bf81-4ef5-8bbc-6d21139f3fed",
   "metadata": {},
   "source": [
    "57.Create a nested tuple and print an inner element.\n"
   ]
  },
  {
   "cell_type": "code",
   "execution_count": 44,
   "id": "37ecc9f7-ec8d-4432-bb02-e34abb2ee07e",
   "metadata": {},
   "outputs": [
    {
     "name": "stdout",
     "output_type": "stream",
     "text": [
      "Inner element: 3\n"
     ]
    }
   ],
   "source": [
    "nested = ((1, 2), (3, 4), (5, 6))\n",
    "print(\"Inner element:\", nested[1][0])  # Accessing element 3\n"
   ]
  },
  {
   "cell_type": "code",
   "execution_count": null,
   "id": "8301b570-2c54-44bb-a530-244d1ffee018",
   "metadata": {},
   "outputs": [],
   "source": []
  },
  {
   "cell_type": "markdown",
   "id": "bfe44050-e2f6-40c2-a983-3d45c6d312dd",
   "metadata": {},
   "source": [
    "58.Merge three tuples into one.\n",
    "\n"
   ]
  },
  {
   "cell_type": "code",
   "execution_count": 45,
   "id": "129a8956-69be-4502-8c7e-c5bdd0ac9f40",
   "metadata": {},
   "outputs": [
    {
     "name": "stdout",
     "output_type": "stream",
     "text": [
      "[(1, 2, 3, 4, 5, 'sath', 455, 'science', 12, 56.28)]\n"
     ]
    }
   ],
   "source": [
    "a=(1,2,3,4,5)\n",
    "b=(\"sath\",455,\"science\")\n",
    "c=(12,56.28)\n",
    "d=[a+b+c]\n",
    "print(d)"
   ]
  },
  {
   "cell_type": "code",
   "execution_count": null,
   "id": "93960219-48ec-49f8-af6b-fa15a68046e3",
   "metadata": {},
   "outputs": [],
   "source": []
  },
  {
   "cell_type": "markdown",
   "id": "4c57073b-96cc-4019-bf0d-aa5af82fdfdb",
   "metadata": {},
   "source": [
    "59.Find the index of 5 in the tuple (1, 3, 5, 7, 9).\n",
    "\n"
   ]
  },
  {
   "cell_type": "code",
   "execution_count": 51,
   "id": "cf6ce1c5-02b9-4707-9809-41648a9fcc41",
   "metadata": {},
   "outputs": [
    {
     "data": {
      "text/plain": [
       "2"
      ]
     },
     "execution_count": 51,
     "metadata": {},
     "output_type": "execute_result"
    }
   ],
   "source": [
    "a=(1,3,5,7,9)\n",
    "a.index(5)"
   ]
  },
  {
   "cell_type": "code",
   "execution_count": null,
   "id": "da1bc033-60ce-4cca-a107-eaed4d368dc8",
   "metadata": {},
   "outputs": [],
   "source": []
  },
  {
   "cell_type": "markdown",
   "id": "ed8ac422-4908-4976-b8c8-e7a9e76921cb",
   "metadata": {},
   "source": [
    "60.Unpack a tuple into separate variables."
   ]
  },
  {
   "cell_type": "code",
   "execution_count": 54,
   "id": "0ed51d5a-25bc-4f33-ac00-2e4df818a27e",
   "metadata": {},
   "outputs": [
    {
     "name": "stdout",
     "output_type": "stream",
     "text": [
      "1\n",
      "2\n",
      "3\n",
      "4\n"
     ]
    }
   ],
   "source": [
    "a=(1,2,3,4)\n",
    "s,t,u,v = a\n",
    "print(s)\n",
    "print(t)\n",
    "print(u)\n",
    "print(v)"
   ]
  },
  {
   "cell_type": "code",
   "execution_count": null,
   "id": "b6c1350c-2012-4873-808e-3f92c1aeec71",
   "metadata": {},
   "outputs": [],
   "source": []
  },
  {
   "cell_type": "markdown",
   "id": "ac2a06a9-f196-4974-98cf-66d661dc5601",
   "metadata": {},
   "source": [
    "61.Create a dictionary with the following key-value pairs:\n",
    "\tname: \"Alice\", age: 25, city: \"New York\"\n"
   ]
  },
  {
   "cell_type": "code",
   "execution_count": 57,
   "id": "7f2e343a-3b82-4340-862f-4a491bc4fbc6",
   "metadata": {},
   "outputs": [],
   "source": [
    "t={'name': \"Alice\", 'age': 25, 'city': \"New York\"}"
   ]
  },
  {
   "cell_type": "code",
   "execution_count": null,
   "id": "5338d5a5-037b-479c-9414-8a07336bcc9f",
   "metadata": {},
   "outputs": [],
   "source": []
  },
  {
   "cell_type": "markdown",
   "id": "c1b71716-268d-4038-9f3e-c209905b7970",
   "metadata": {},
   "source": [
    "62.person = {\"name\": \"Alice\", \"age\": 25, \"city\": \"New York\"}\n",
    "\n",
    "\tPrint the value associated with the key \"city\"\n",
    "\n"
   ]
  },
  {
   "cell_type": "code",
   "execution_count": 63,
   "id": "1fbe017f-6c77-4285-9ddf-d1053dec1351",
   "metadata": {},
   "outputs": [
    {
     "data": {
      "text/plain": [
       "'New York'"
      ]
     },
     "execution_count": 63,
     "metadata": {},
     "output_type": "execute_result"
    }
   ],
   "source": [
    "person = {\"name\": \"Alice\", \"age\": 25, \"city\": \"New York\"}\n",
    "person[\"city\"]"
   ]
  },
  {
   "cell_type": "code",
   "execution_count": null,
   "id": "58844d0d-bd78-4f23-b406-b8f6c9295603",
   "metadata": {},
   "outputs": [],
   "source": []
  },
  {
   "cell_type": "markdown",
   "id": "bad7ddda-2d7d-43a1-9703-65d0e1b28f00",
   "metadata": {},
   "source": [
    "63.Update the age of Alice to 26 in the dictionary\n"
   ]
  },
  {
   "cell_type": "code",
   "execution_count": 65,
   "id": "79805e22-1388-4876-9fc3-423857a538ac",
   "metadata": {},
   "outputs": [
    {
     "data": {
      "text/plain": [
       "{'name': 'Alice', 'age': 26, 'city': 'New York'}"
      ]
     },
     "execution_count": 65,
     "metadata": {},
     "output_type": "execute_result"
    }
   ],
   "source": [
    "person = {\"name\": \"Alice\", \"age\": 25, \"city\": \"New York\"}\n",
    "person[\"age\"]=26\n",
    "person\n"
   ]
  },
  {
   "cell_type": "code",
   "execution_count": null,
   "id": "a13c0577-6f65-4b4c-89d6-8c16762756de",
   "metadata": {},
   "outputs": [],
   "source": []
  },
  {
   "cell_type": "markdown",
   "id": "c2ccf662-0d44-4d6e-b1d3-52526706d486",
   "metadata": {},
   "source": [
    "64.Add a new key \"email\" with value \"alice@example.com\" to the dictionary\n"
   ]
  },
  {
   "cell_type": "code",
   "execution_count": 76,
   "id": "a9214286-a736-46ed-a337-15898321a2b7",
   "metadata": {},
   "outputs": [
    {
     "data": {
      "text/plain": [
       "{'name': 'Alice', 'age': 25, 'city': 'New York', 'email': 'alice@example.com'}"
      ]
     },
     "execution_count": 76,
     "metadata": {},
     "output_type": "execute_result"
    }
   ],
   "source": [
    "person = {\"name\": \"Alice\", \"age\": 25, \"city\": \"New York\"}\n",
    "person[\"email\"]=(\"alice@example.com\")\n",
    "person"
   ]
  },
  {
   "cell_type": "code",
   "execution_count": null,
   "id": "af029c6b-90a9-4846-b2f5-806b8e6b1a6f",
   "metadata": {},
   "outputs": [],
   "source": []
  },
  {
   "cell_type": "markdown",
   "id": "4d408a4c-907a-4d0f-b6fb-c06bf5b95bfa",
   "metadata": {},
   "source": [
    "65.Delete the key \"city\" from the dictionary\n"
   ]
  },
  {
   "cell_type": "code",
   "execution_count": 83,
   "id": "a9841034-9327-4004-b6a1-1b8434e8a7d2",
   "metadata": {},
   "outputs": [
    {
     "data": {
      "text/plain": [
       "{'name': 'Alice', 'age': 25}"
      ]
     },
     "execution_count": 83,
     "metadata": {},
     "output_type": "execute_result"
    }
   ],
   "source": [
    "person = {\"name\": \"Alice\", \"age\": 25, \"city\": \"New York\"}\n",
    "person.pop(\"city\")\n",
    "person"
   ]
  },
  {
   "cell_type": "code",
   "execution_count": null,
   "id": "50761011-b8d8-4764-8655-5a251fb9a18c",
   "metadata": {},
   "outputs": [],
   "source": []
  },
  {
   "cell_type": "markdown",
   "id": "265ab2b9-f98b-4c80-a0f7-105cf086c4ee",
   "metadata": {},
   "source": [
    "66.Check if the key \"email\" exists in the dictionary\n"
   ]
  },
  {
   "cell_type": "code",
   "execution_count": 85,
   "id": "723aec0f-6068-41e4-b6e1-34ada5cd8cb5",
   "metadata": {},
   "outputs": [
    {
     "name": "stdout",
     "output_type": "stream",
     "text": [
      "email is present\n"
     ]
    }
   ],
   "source": [
    "person={'name': 'Alice', 'age': 25, 'city': 'New York', 'email': 'alice@example.com'}\n",
    "if \"email\" in person:\n",
    "    print(\"email is present\")\n",
    "else:\n",
    "    print(\"email is not present\")\n",
    "    "
   ]
  },
  {
   "cell_type": "code",
   "execution_count": null,
   "id": "9bf2140b-5bdf-4ad2-aa1e-0b5dba170745",
   "metadata": {},
   "outputs": [],
   "source": []
  },
  {
   "cell_type": "markdown",
   "id": "f2abfbdb-f923-4f19-abe0-aaed9a60cfd8",
   "metadata": {},
   "source": [
    "67. Create a dictionary of students:\n",
    "\n",
    " {\n",
    "    \"Alice\": {\"math\": 90, \"science\": 85},     \n",
    "    \"Bob\": {\"math\": 75, \"science\": 95}\n",
    " }\n",
    "\n",
    "Print Bob's science score.\n",
    "\n"
   ]
  },
  {
   "cell_type": "code",
   "execution_count": 90,
   "id": "f884605f-1708-4360-8fd3-b6c7d11fe151",
   "metadata": {},
   "outputs": [
    {
     "name": "stdout",
     "output_type": "stream",
     "text": [
      "Bob's science score: 95\n"
     ]
    }
   ],
   "source": [
    "s= {\"Alice\": {\"math\": 90, \"science\": 85},\"Bob\": {\"math\": 75, \"science\": 95} }\n",
    "bob_science_score = s[\"Bob\"][\"science\"]\n",
    "print(\"Bob's science score:\", bob_science_score)\n"
   ]
  },
  {
   "cell_type": "code",
   "execution_count": null,
   "id": "d0f16733-28f3-4ab8-9618-6c7d23d23b90",
   "metadata": {},
   "outputs": [],
   "source": []
  },
  {
   "cell_type": "markdown",
   "id": "260c509a-5fc6-4432-8b1c-12a6c9f07542",
   "metadata": {},
   "source": [
    "68.Create a set named `fruits` with the items: \"apple\", \"banana\", \"cherry\"\n"
   ]
  },
  {
   "cell_type": "code",
   "execution_count": 91,
   "id": "fa169fd0-1eb7-41c6-aec2-f244875c8c36",
   "metadata": {},
   "outputs": [],
   "source": [
    "fruits={\"apple\",\"banana\",\"cherry\"}"
   ]
  },
  {
   "cell_type": "code",
   "execution_count": null,
   "id": "f4cf2e2a-7b28-4b54-96d8-5f3420dc5f08",
   "metadata": {},
   "outputs": [],
   "source": []
  },
  {
   "cell_type": "markdown",
   "id": "88c2a63d-d324-412c-ab54-c05e724e85b7",
   "metadata": {},
   "source": [
    "69.Add \"orange\" to the set `fruits`"
   ]
  },
  {
   "cell_type": "code",
   "execution_count": 95,
   "id": "324b74bc-5733-4dad-8c86-c0bce147f058",
   "metadata": {},
   "outputs": [
    {
     "data": {
      "text/plain": [
       "{'apple', 'banana', 'cherry', 'orange'}"
      ]
     },
     "execution_count": 95,
     "metadata": {},
     "output_type": "execute_result"
    }
   ],
   "source": [
    "fruits={\"apple\",\"banana\",\"cherry\"}\n",
    "fruits.add(\"orange\")\n",
    "fruits"
   ]
  },
  {
   "cell_type": "code",
   "execution_count": null,
   "id": "faa99ea8-6b1b-4e1f-b60d-8aa962c8766f",
   "metadata": {},
   "outputs": [],
   "source": []
  },
  {
   "cell_type": "markdown",
   "id": "8f40ef34-0717-4cc3-b74d-8cc9f5bd7300",
   "metadata": {},
   "source": [
    "70. Remove \"banana\" from the set `fruits`\n",
    "    What happens if you try to remove an item that doesn’t exist?\n"
   ]
  },
  {
   "cell_type": "code",
   "execution_count": 98,
   "id": "562dc515-228e-4994-970b-bfda97a96cf8",
   "metadata": {},
   "outputs": [
    {
     "data": {
      "text/plain": [
       "{'apple', 'cherry'}"
      ]
     },
     "execution_count": 98,
     "metadata": {},
     "output_type": "execute_result"
    }
   ],
   "source": [
    "fruits={\"apple\",\"banana\",\"cherry\"}\n",
    "fruits.remove(\"banana\")\n",
    "fruits"
   ]
  },
  {
   "cell_type": "code",
   "execution_count": null,
   "id": "e8986b1a-cc5e-4de7-8018-596bf7630fa0",
   "metadata": {},
   "outputs": [],
   "source": []
  },
  {
   "cell_type": "markdown",
   "id": "314a5a14-efda-4c1b-aa5d-56259f5ba7de",
   "metadata": {},
   "source": [
    "71.Check if \"apple\" is in the set `fruits`\n"
   ]
  },
  {
   "cell_type": "code",
   "execution_count": 99,
   "id": "2d63cf76-9a01-4193-b721-72471397ab48",
   "metadata": {},
   "outputs": [
    {
     "name": "stdout",
     "output_type": "stream",
     "text": [
      "apple is present in fruits\n"
     ]
    }
   ],
   "source": [
    "fruits={\"apple\",\"banana\",\"cherry\"}\n",
    "if \"apple\" in fruits:\n",
    "    print(\"apple is present in fruits\")\n",
    "else:\n",
    "    print(\"apple is not present in fruits\")"
   ]
  },
  {
   "cell_type": "code",
   "execution_count": null,
   "id": "7d77f8d0-4c7d-46cf-8a0f-7123aedf3c14",
   "metadata": {},
   "outputs": [],
   "source": []
  },
  {
   "cell_type": "markdown",
   "id": "14e659f7-b051-407d-9bdc-d045bc9c0d1d",
   "metadata": {},
   "source": [
    "72. Given a list: [1, 2, 2, 3, 4, 4, 5]\n",
    "    Use a set to remove duplicates\n"
   ]
  },
  {
   "cell_type": "code",
   "execution_count": 100,
   "id": "5660b410-100d-42c3-9204-265db02d53b3",
   "metadata": {},
   "outputs": [
    {
     "name": "stdout",
     "output_type": "stream",
     "text": [
      "[1, 2, 3, 4, 5]\n"
     ]
    }
   ],
   "source": [
    "a= [1, 2, 2, 3, 4, 4, 5]\n",
    "unique_a = list(set(a))\n",
    "print(unique_a)\n"
   ]
  },
  {
   "cell_type": "code",
   "execution_count": null,
   "id": "0e9ace7c-d300-43f6-8b3d-5fff2f24b4f3",
   "metadata": {},
   "outputs": [],
   "source": []
  },
  {
   "cell_type": "code",
   "execution_count": null,
   "id": "f4a133b9-9a4d-4a1b-acac-f4fd9c36b8fa",
   "metadata": {},
   "outputs": [],
   "source": []
  },
  {
   "cell_type": "code",
   "execution_count": null,
   "id": "c973de72-02e8-4a0b-b2f6-d05aa9c0e277",
   "metadata": {},
   "outputs": [],
   "source": []
  },
  {
   "cell_type": "code",
   "execution_count": null,
   "id": "ecefb448-fa78-4a16-9426-9d290ffb60d9",
   "metadata": {},
   "outputs": [],
   "source": []
  },
  {
   "cell_type": "code",
   "execution_count": null,
   "id": "4bae3b8d-6d7e-4171-9ec2-d413b0cf66aa",
   "metadata": {},
   "outputs": [],
   "source": []
  },
  {
   "cell_type": "code",
   "execution_count": null,
   "id": "e2d21a29-dbe0-4924-94cf-af3cda66234c",
   "metadata": {},
   "outputs": [],
   "source": []
  },
  {
   "cell_type": "code",
   "execution_count": null,
   "id": "2ebe1fd5-0b7a-4714-a359-e3f0fec05183",
   "metadata": {},
   "outputs": [],
   "source": []
  }
 ],
 "metadata": {
  "kernelspec": {
   "display_name": "Python 3 (ipykernel)",
   "language": "python",
   "name": "python3"
  },
  "language_info": {
   "codemirror_mode": {
    "name": "ipython",
    "version": 3
   },
   "file_extension": ".py",
   "mimetype": "text/x-python",
   "name": "python",
   "nbconvert_exporter": "python",
   "pygments_lexer": "ipython3",
   "version": "3.13.5"
  }
 },
 "nbformat": 4,
 "nbformat_minor": 5
}
