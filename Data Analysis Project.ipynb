{
 "cells": [
  {
   "cell_type": "code",
   "execution_count": 10,
   "id": "3b156142-bab2-4688-96f5-0dd84cdaf27e",
   "metadata": {},
   "outputs": [
    {
     "name": "stdout",
     "output_type": "stream",
     "text": [
      "Data Summary:\n",
      "       EmployeeID        Salary          JoiningDate\n",
      "count    5.000000      5.000000                    5\n",
      "mean   103.000000  54250.000000  2020-10-21 19:12:00\n",
      "min    101.000000  50000.000000  2019-03-22 00:00:00\n",
      "25%    102.000000  52000.000000  2020-01-15 00:00:00\n",
      "50%    103.000000  54250.000000  2020-11-05 00:00:00\n",
      "75%    104.000000  55000.000000  2021-07-10 00:00:00\n",
      "max    105.000000  60000.000000  2022-05-30 00:00:00\n",
      "std      1.581139   3766.629793                  NaN\n",
      "\n",
      "Data Types:\n",
      "EmployeeID              int64\n",
      "Name                   object\n",
      "Department             object\n",
      "Salary                float64\n",
      "JoiningDate    datetime64[ns]\n",
      "dtype: object\n",
      "\n",
      "Average Salary by Department:\n",
      "Department\n",
      "Finance    55000.0\n",
      "HR         51000.0\n",
      "IT         57125.0\n",
      "Name: Salary, dtype: float64\n"
     ]
    },
    {
     "name": "stderr",
     "output_type": "stream",
     "text": [
      "C:\\Users\\admin\\AppData\\Local\\Temp\\ipykernel_6944\\1480343660.py:17: FutureWarning: A value is trying to be set on a copy of a DataFrame or Series through chained assignment using an inplace method.\n",
      "The behavior will change in pandas 3.0. This inplace method will never work because the intermediate object on which we are setting values always behaves as a copy.\n",
      "\n",
      "For example, when doing 'df[col].method(value, inplace=True)', try using 'df.method({col: value}, inplace=True)' or df[col] = df[col].method(value) instead, to perform the operation inplace on the original object.\n",
      "\n",
      "\n",
      "  df['Salary'].fillna(df['Salary'].mean(), inplace=True)\n"
     ]
    }
   ],
   "source": [
    "import pandas as pd\n",
    "import numpy as np\n",
    "\n",
    "# 1. Load the data\n",
    "data = {\n",
    "    'EmployeeID': [101, 102, 103, 104, 105],\n",
    "    'Name': ['Alice', 'Bob', 'Charlie', 'David', 'Eva'],\n",
    "    'Department': ['HR', 'IT', 'Finance', 'IT', 'HR'],\n",
    "    'Salary': [50000, 60000, 55000, np.nan, 52000],\n",
    "    'JoiningDate': ['2020-01-15', '2019-03-22', '2021-07-10', '2022-05-30', '2020-11-05']\n",
    "}\n",
    "\n",
    "df = pd.DataFrame(data)\n",
    "\n",
    "# 2. Clean the data\n",
    "# Handle missing values\n",
    "df['Salary'].fillna(df['Salary'].mean(), inplace=True)\n",
    "\n",
    "# Convert 'JoiningDate' to datetime\n",
    "df['JoiningDate'] = pd.to_datetime(df['JoiningDate'])\n",
    "\n",
    "# 3. Exploratory Data Analysis (EDA)\n",
    "print(\"Data Summary:\")\n",
    "print(df.describe())\n",
    "\n",
    "print(\"\\nData Types:\")\n",
    "print(df.dtypes)\n",
    "\n",
    "# 4. Performance Analysis\n",
    "# Average salary by department\n",
    "avg_salary = df.groupby('Department')['Salary'].mean()\n",
    "print(\"\\nAverage Salary by Department:\")\n",
    "print(avg_salary)\n",
    "\n"
   ]
  },
  {
   "cell_type": "code",
   "execution_count": null,
   "id": "6b01fc06-23ae-4827-8a67-1af238de3a89",
   "metadata": {},
   "outputs": [],
   "source": []
  },
  {
   "cell_type": "code",
   "execution_count": null,
   "id": "1d2ce3ae-3f91-4c47-bc08-b648c6f9238d",
   "metadata": {},
   "outputs": [],
   "source": []
  },
  {
   "cell_type": "code",
   "execution_count": null,
   "id": "0d3e6b5c-4af6-4af9-bdc6-9d9093b8cd7f",
   "metadata": {},
   "outputs": [],
   "source": []
  },
  {
   "cell_type": "code",
   "execution_count": null,
   "id": "dff79293-6849-4375-98d7-877d728fe9b8",
   "metadata": {},
   "outputs": [],
   "source": []
  },
  {
   "cell_type": "code",
   "execution_count": null,
   "id": "7869db01-71fc-4e12-beed-6835b0074306",
   "metadata": {},
   "outputs": [],
   "source": []
  },
  {
   "cell_type": "code",
   "execution_count": null,
   "id": "ac3791c4-358e-4a8c-803a-fd68d1ff83d8",
   "metadata": {},
   "outputs": [],
   "source": []
  }
 ],
 "metadata": {
  "kernelspec": {
   "display_name": "Python 3 (ipykernel)",
   "language": "python",
   "name": "python3"
  },
  "language_info": {
   "codemirror_mode": {
    "name": "ipython",
    "version": 3
   },
   "file_extension": ".py",
   "mimetype": "text/x-python",
   "name": "python",
   "nbconvert_exporter": "python",
   "pygments_lexer": "ipython3",
   "version": "3.13.5"
  }
 },
 "nbformat": 4,
 "nbformat_minor": 5
}
