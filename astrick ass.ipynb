{
 "cells": [
  {
   "cell_type": "markdown",
   "id": "04fb0aed-369a-48d4-8d3a-7860407fd8c3",
   "metadata": {},
   "source": [
    "1.. Write a function that accepts any number of numerical arguments and returns their sum.\n",
    "Example:\n",
    "sum_numbers(1, 2, 3, 4)  \n"
   ]
  },
  {
   "cell_type": "code",
   "execution_count": 7,
   "id": "acea0eb5-3663-48aa-884f-3df6a26e08a1",
   "metadata": {},
   "outputs": [],
   "source": [
    "def sum(a,b,c):\n",
    "    return a+b+c"
   ]
  },
  {
   "cell_type": "code",
   "execution_count": 8,
   "id": "b1483adc-9a89-4dd0-bf61-0bb8913444bd",
   "metadata": {},
   "outputs": [
    {
     "data": {
      "text/plain": [
       "21"
      ]
     },
     "execution_count": 8,
     "metadata": {},
     "output_type": "execute_result"
    }
   ],
   "source": [
    "sum(4,5,12)"
   ]
  },
  {
   "cell_type": "code",
   "execution_count": null,
   "id": "e9939046-7416-42eb-89e2-50f1f96681ce",
   "metadata": {},
   "outputs": [],
   "source": []
  },
  {
   "cell_type": "markdown",
   "id": "14b2b6c3-2c77-4751-b7ae-bd20a6175cb7",
   "metadata": {},
   "source": [
    "2. Create a function that takes multiple names as arguments and prints them one by one.\n",
    "Example:\n",
    "\n",
    "print_names(\"Alice\", \"Bob\", \"Charlie\")  \n"
   ]
  },
  {
   "cell_type": "code",
   "execution_count": 19,
   "id": "d3466c8c-d8bf-4cda-bcf3-e3280b01f976",
   "metadata": {},
   "outputs": [],
   "source": [
    "def print_names(*names):\n",
    "    for name in names:\n",
    "     print(name)"
   ]
  },
  {
   "cell_type": "code",
   "execution_count": 20,
   "id": "5b25e643-41ce-4e18-bf23-cb416842a6ee",
   "metadata": {},
   "outputs": [
    {
     "name": "stdout",
     "output_type": "stream",
     "text": [
      "Alice\n",
      "Bob\n",
      "Charlie\n"
     ]
    }
   ],
   "source": [
    "print_names(\"Alice\", \"Bob\", \"Charlie\")"
   ]
  },
  {
   "cell_type": "code",
   "execution_count": null,
   "id": "b71c0bf2-03dd-4840-8bbe-8d20a9b23e3c",
   "metadata": {},
   "outputs": [],
   "source": []
  },
  {
   "cell_type": "markdown",
   "id": "3240ad48-fc3a-4d2c-8c28-6c94f6d78ff7",
   "metadata": {},
   "source": [
    "3.Write a function that finds the maximum number among any number of arguments using *args.\n"
   ]
  },
  {
   "cell_type": "code",
   "execution_count": null,
   "id": "11111607-67a5-46eb-b48a-cb49e14ff9e3",
   "metadata": {},
   "outputs": [],
   "source": [
    "def max(*args):\n",
    "    return max(args)"
   ]
  },
  {
   "cell_type": "code",
   "execution_count": 2,
   "id": "b03ca408-d254-4cbb-8fbf-91b508075e9f",
   "metadata": {},
   "outputs": [
    {
     "name": "stdout",
     "output_type": "stream",
     "text": [
      "51\n"
     ]
    }
   ],
   "source": [
    "print (max(2,3,4,51,6,8))"
   ]
  },
  {
   "cell_type": "markdown",
   "id": "e572d69f-4ba5-4c19-949f-b1f2836e1193",
   "metadata": {},
   "source": [
    "Problem: Write a function that takes multiple numbers and returns a list of only even numbers."
   ]
  },
  {
   "cell_type": "code",
   "execution_count": 5,
   "id": "e7514b78-01a6-4b36-a2b1-15063c2e58ea",
   "metadata": {},
   "outputs": [],
   "source": [
    "def div(*a):\n",
    "    for i in a:\n",
    "        if i%2==0:\n",
    "          print(i)"
   ]
  },
  {
   "cell_type": "code",
   "execution_count": 6,
   "id": "47bb14f4-b8dc-4f9d-a521-b4eb6eae6f54",
   "metadata": {},
   "outputs": [
    {
     "name": "stdout",
     "output_type": "stream",
     "text": [
      "2\n",
      "4\n",
      "6\n",
      "8\n"
     ]
    }
   ],
   "source": [
    "div(1,2,3,4,5,6,7,8)"
   ]
  },
  {
   "cell_type": "code",
   "execution_count": null,
   "id": "b99dedfc-33d8-47dc-a0a2-1ea27b6a25c4",
   "metadata": {},
   "outputs": [],
   "source": []
  },
  {
   "cell_type": "markdown",
   "id": "7f9c5d24-e88b-48bd-8324-f760b088e695",
   "metadata": {},
   "source": [
    "4.Create a function that accepts a mix of numbers and strings but stores only numbers in a separate list.\n",
    "Example:\n",
    "\n",
    "filter_numbers(10, \"apple\", 25, \"banana\", 30)  \n"
   ]
  },
  {
   "cell_type": "code",
   "execution_count": 12,
   "id": "576980d6-56fc-49d9-919a-595ac8c0e0a3",
   "metadata": {},
   "outputs": [],
   "source": [
    "def ref(*b):\n",
    "    l=[]\n",
    "    for i in b:\n",
    "        if type(i)==int:\n",
    "         l.append(i)\n",
    "    print(l)\n",
    "        "
   ]
  },
  {
   "cell_type": "code",
   "execution_count": 13,
   "id": "71fea1a3-17cd-4c44-9fe4-2e20232d8ae3",
   "metadata": {},
   "outputs": [
    {
     "name": "stdout",
     "output_type": "stream",
     "text": [
      "[12, 45]\n"
     ]
    }
   ],
   "source": [
    "ref(\"sath\",\"div\",12,45,0.25)"
   ]
  },
  {
   "cell_type": "code",
   "execution_count": null,
   "id": "04917143-cb01-4d28-9b78-2df599be32f8",
   "metadata": {},
   "outputs": [],
   "source": []
  },
  {
   "cell_type": "markdown",
   "id": "d452df8b-124d-491b-88b8-d8542021cd7d",
   "metadata": {},
   "source": [
    "5.Write a function that accepts any number of arguments and returns the product of all numbers.\n",
    "\n"
   ]
  },
  {
   "cell_type": "code",
   "execution_count": 25,
   "id": "53497d29-6efb-4713-95a2-9c994e74a11c",
   "metadata": {},
   "outputs": [],
   "source": [
    " def mul(a,b,c):\n",
    "    result=a*b*c\n",
    "    return result"
   ]
  },
  {
   "cell_type": "code",
   "execution_count": 26,
   "id": "1693bbed-0c6f-47a1-b9cc-220976adfb0d",
   "metadata": {},
   "outputs": [
    {
     "data": {
      "text/plain": [
       "8"
      ]
     },
     "execution_count": 26,
     "metadata": {},
     "output_type": "execute_result"
    }
   ],
   "source": [
    "mul(1,4,2)"
   ]
  },
  {
   "cell_type": "code",
   "execution_count": null,
   "id": "8da024e4-d608-4735-b083-c9b060e968ed",
   "metadata": {},
   "outputs": [],
   "source": []
  },
  {
   "cell_type": "markdown",
   "id": "1206b47a-80c3-4745-abbb-b78eabe88198",
   "metadata": {},
   "source": [
    "6. Create a function that takes multiple words as arguments and returns a list of words that have more than 5 characters.\n"
   ]
  },
  {
   "cell_type": "code",
   "execution_count": 27,
   "id": "9512bc7f-26b9-425b-8231-8e154ee4e6ec",
   "metadata": {},
   "outputs": [],
   "source": [
    "def words(*words):\n",
    "    return [word for word in words if len(word) > 5]\n"
   ]
  },
  {
   "cell_type": "code",
   "execution_count": 28,
   "id": "86c877ba-05ce-4602-ac22-45cc35a44076",
   "metadata": {},
   "outputs": [
    {
     "data": {
      "text/plain": [
       "['sathvika', 'anugra']"
      ]
     },
     "execution_count": 28,
     "metadata": {},
     "output_type": "execute_result"
    }
   ],
   "source": [
    "words(\"sathvika\",\"tv\",\"anugra\")"
   ]
  },
  {
   "cell_type": "code",
   "execution_count": null,
   "id": "701ebecf-bfa7-48eb-8541-eaece31d8a58",
   "metadata": {},
   "outputs": [],
   "source": []
  },
  {
   "cell_type": "markdown",
   "id": "fbe9c3b9-a908-4e9f-b853-65db4987e24c",
   "metadata": {},
   "source": [
    "8.Create a function that takes multiple numbers as input and returns the largest and smallest numbers from the arguments.\n",
    "\n"
   ]
  },
  {
   "cell_type": "code",
   "execution_count": 35,
   "id": "ff1106ae-eacd-4caf-991a-8eed89455858",
   "metadata": {},
   "outputs": [],
   "source": [
    "def num(*args):\n",
    "    for i in args:\n",
    "        return (min(args)and max(args))"
   ]
  },
  {
   "cell_type": "code",
   "execution_count": 33,
   "id": "f46a0b23-8971-4a42-b680-2967c0f0cff6",
   "metadata": {},
   "outputs": [
    {
     "data": {
      "text/plain": [
       "89"
      ]
     },
     "execution_count": 33,
     "metadata": {},
     "output_type": "execute_result"
    }
   ],
   "source": [
    "num(2,4,65,1,67,89)"
   ]
  },
  {
   "cell_type": "code",
   "execution_count": null,
   "id": "908b676b-3548-41e9-b38a-19e2296f50c3",
   "metadata": {},
   "outputs": [],
   "source": []
  },
  {
   "cell_type": "markdown",
   "id": "a21cbd00-bc93-4ec7-8377-4830a6f2ebf3",
   "metadata": {},
   "source": [
    "9.Write a function that accepts multiple elements and prints only the elements at even index positions.\n"
   ]
  },
  {
   "cell_type": "code",
   "execution_count": 1,
   "id": "c4679192-3c83-414e-b2df-76d862c40127",
   "metadata": {},
   "outputs": [],
   "source": [
    "def num(*args):\n",
    "    for i in range(0, len(args), 2):\n",
    "        print(args[i])"
   ]
  },
  {
   "cell_type": "code",
   "execution_count": 3,
   "id": "24043b6f-4398-45e9-a5c9-9248f34df664",
   "metadata": {},
   "outputs": [
    {
     "name": "stdout",
     "output_type": "stream",
     "text": [
      "2\n",
      "4\n",
      "6\n",
      "8\n"
     ]
    }
   ],
   "source": [
    "num(2,3,4,5,6,7,8)"
   ]
  },
  {
   "cell_type": "code",
   "execution_count": null,
   "id": "7782864e-3e65-44f0-b4f3-1b4d12a64af9",
   "metadata": {},
   "outputs": [],
   "source": []
  },
  {
   "cell_type": "code",
   "execution_count": null,
   "id": "0dc7e25d-68ed-4d0e-8493-e110cca4545b",
   "metadata": {},
   "outputs": [],
   "source": []
  }
 ],
 "metadata": {
  "kernelspec": {
   "display_name": "Python 3 (ipykernel)",
   "language": "python",
   "name": "python3"
  },
  "language_info": {
   "codemirror_mode": {
    "name": "ipython",
    "version": 3
   },
   "file_extension": ".py",
   "mimetype": "text/x-python",
   "name": "python",
   "nbconvert_exporter": "python",
   "pygments_lexer": "ipython3",
   "version": "3.13.5"
  }
 },
 "nbformat": 4,
 "nbformat_minor": 5
}
