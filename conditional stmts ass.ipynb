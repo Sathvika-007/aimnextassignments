{
 "cells": [
  {
   "cell_type": "markdown",
   "id": "cbfd26bd-1d4a-4fe7-a01a-7d30ad69f8b5",
   "metadata": {},
   "source": [
    "1.Write a program that takes a number as input and prints whether it is even or odd.\n",
    "\n"
   ]
  },
  {
   "cell_type": "code",
   "execution_count": 7,
   "id": "6b95dc25-72ec-4125-9134-1cb257709f96",
   "metadata": {},
   "outputs": [
    {
     "name": "stdin",
     "output_type": "stream",
     "text": [
      "please enter the number 3\n"
     ]
    },
    {
     "name": "stdout",
     "output_type": "stream",
     "text": [
      "the number is odd\n"
     ]
    }
   ],
   "source": [
    "num=int(input(\"please enter the number\"))\n",
    "if num %2==0:\n",
    "   print(\"the number is even\")\n",
    "else:\n",
    "   print(\"the number is odd\")"
   ]
  },
  {
   "cell_type": "markdown",
   "id": "804be7f5-616b-4988-83e5-d2302a04ca77",
   "metadata": {},
   "source": [
    "2.Positive, Negative, or Zero.Take a number from the user and print whether it is positive, negative, or zero.\n",
    "\n"
   ]
  },
  {
   "cell_type": "code",
   "execution_count": 11,
   "id": "9f26584d-29e0-48a6-bcdd-07e9b3064ef0",
   "metadata": {},
   "outputs": [
    {
     "name": "stdin",
     "output_type": "stream",
     "text": [
      "please enter the number -1\n"
     ]
    },
    {
     "name": "stdout",
     "output_type": "stream",
     "text": [
      "the number is negative\n"
     ]
    }
   ],
   "source": [
    "num=int(input(\"please enter the number\"))\n",
    "if num>1:\n",
    "    print(\"the number is positive\")\n",
    "elif num<0:\n",
    "    print(\"the number is negative\")\n",
    "else:\n",
    "    print(\"the number is zero\")"
   ]
  },
  {
   "cell_type": "markdown",
   "id": "7d9151b5-8db0-4d5f-92d5-52064227778b",
   "metadata": {},
   "source": [
    "3.Ask the user for their age and print whether they are eligible to vote (18 or older).\n",
    "\n"
   ]
  },
  {
   "cell_type": "code",
   "execution_count": 13,
   "id": "90ab709e-10c2-43de-b953-39e1905eeec1",
   "metadata": {},
   "outputs": [
    {
     "name": "stdin",
     "output_type": "stream",
     "text": [
      "please enter the age 14\n"
     ]
    },
    {
     "name": "stdout",
     "output_type": "stream",
     "text": [
      "the person is not eligible to vote\n"
     ]
    }
   ],
   "source": [
    "age=int(input(\"please enter the age\"))\n",
    "if age<18:\n",
    "    print(\"the person is not eligible to vote\")\n",
    "else:\n",
    "    print(\"the person is eligible to vote\")"
   ]
  },
  {
   "cell_type": "markdown",
   "id": "9be428e9-5b47-4e0d-816b-e96e2267920a",
   "metadata": {},
   "source": [
    "4.Write a program to find the larger of two numbers entered by the user."
   ]
  },
  {
   "cell_type": "code",
   "execution_count": 16,
   "id": "1b9e7e57-cfc2-4cd0-a22d-af36815005ae",
   "metadata": {},
   "outputs": [
    {
     "name": "stdin",
     "output_type": "stream",
     "text": [
      "please enter the first number 12\n",
      "please enter second number 18\n"
     ]
    },
    {
     "name": "stdout",
     "output_type": "stream",
     "text": [
      "enter num2 is larger than num1\n"
     ]
    }
   ],
   "source": [
    "num1=int(input(\"please enter the first number\"))\n",
    "num2=int(input(\"please enter second number\"))\n",
    "\n",
    "if num1>num2:\n",
    "    print(\"enter num1 is larger than num2\")\n",
    "elif num1<num2:\n",
    "    print(\"enter num2 is larger than num1\")\n",
    "else:\n",
    "    print(\"both the numbers are equal\")\n",
    "    "
   ]
  },
  {
   "cell_type": "markdown",
   "id": "2fa39276-fe32-42ef-965a-4fd11fe200e6",
   "metadata": {},
   "source": [
    "5.Ask the user to enter a mark (0–100). Print:\n",
    "\n",
    "\"Fail\" if below 40\n",
    "\n",
    "\"Pass\" if 40–59\n",
    "\n",
    "\"Good\" if 60–79\n",
    "\n",
    "\"Excellent\" if 80–100\n",
    "\n",
    "\"Invalid mark\" otherwise\n"
   ]
  },
  {
   "cell_type": "code",
   "execution_count": 30,
   "id": "1edc92d3-f8fb-402f-8d30-6b9e3e582378",
   "metadata": {},
   "outputs": [
    {
     "name": "stdin",
     "output_type": "stream",
     "text": [
      "please enter the marks 99\n"
     ]
    },
    {
     "name": "stdout",
     "output_type": "stream",
     "text": [
      "excellent\n"
     ]
    }
   ],
   "source": [
    "mark=int(input(\"please enter the marks\"))\n",
    "if 0 <= mark < 40:\n",
    "     print(\"fail\")\n",
    "elif 40 <= mark < 59:\n",
    "     print(\"pass\")\n",
    "elif 60<= mark < 79:\n",
    "     print(\"good\")\n",
    "elif 80 <= mark < 100:\n",
    "     print(\"excellent\")\n",
    "else:\n",
    "     print(\"invalid marks\")"
   ]
  },
  {
   "cell_type": "code",
   "execution_count": null,
   "id": "8d8cb411-c30c-4c24-9218-ffbe867e0703",
   "metadata": {},
   "outputs": [],
   "source": []
  },
  {
   "cell_type": "markdown",
   "id": "4eb0e1cb-e0d9-41a8-8e34-8495fc1094fc",
   "metadata": {},
   "source": [
    "6.Ask the user to enter a year and check if it's a leap year or not.\n",
    "\n"
   ]
  },
  {
   "cell_type": "code",
   "execution_count": 32,
   "id": "89987972-79fe-4fcd-a8a5-f0d80b3c53eb",
   "metadata": {},
   "outputs": [
    {
     "name": "stdin",
     "output_type": "stream",
     "text": [
      "please enter the number 2024\n"
     ]
    },
    {
     "name": "stdout",
     "output_type": "stream",
     "text": [
      "the year is leap year\n"
     ]
    }
   ],
   "source": [
    "year=int(input(\"please enter the number\"))\n",
    "if year %4 == 0:\n",
    "    print(\"the year is leap year\")\n",
    "else:\n",
    "    print(\"the year is not a leap year\")"
   ]
  },
  {
   "cell_type": "code",
   "execution_count": null,
   "id": "5e6ae648-955b-4d07-80dd-a07a81d4dafc",
   "metadata": {},
   "outputs": [],
   "source": []
  },
  {
   "cell_type": "markdown",
   "id": "b9340f0e-acd8-4b4d-8f23-75770612eb11",
   "metadata": {},
   "source": [
    "7.Ask the user to enter a password and check if it matches \"OpenAI123\".\n",
    "\n",
    "If yes, print \"Access granted\"\n",
    "\n",
    "If not, print \"Incorrect password\"\n"
   ]
  },
  {
   "cell_type": "code",
   "execution_count": 35,
   "id": "64aaf331-aa06-469c-ba6f-76c4394a0059",
   "metadata": {},
   "outputs": [
    {
     "name": "stdin",
     "output_type": "stream",
     "text": [
      "please enter the password OpenAI123\n"
     ]
    },
    {
     "name": "stdout",
     "output_type": "stream",
     "text": [
      "Access granted\n"
     ]
    }
   ],
   "source": [
    "password=input(\"please enter the password\")\n",
    "if password == \"OpenAI123\":\n",
    "    print(\"Access granted\")\n",
    "else:\n",
    "    print(\"Incorrect password\")"
   ]
  },
  {
   "cell_type": "code",
   "execution_count": null,
   "id": "3c2c1e98-5771-424c-9c84-09026569ab79",
   "metadata": {},
   "outputs": [],
   "source": []
  },
  {
   "cell_type": "markdown",
   "id": "22dcde20-a911-425f-b7a3-31e238b0a053",
   "metadata": {},
   "source": [
    "8.Write a program that checks:\n",
    "\n",
    "If a number is divisible by both 3 and 5 → print \"FizzBuzz\"\n",
    "\n",
    "If only divisible by 3 → print \"Fizz\"\n",
    "\n",
    "If only divisible by 5 → print \"Buzz\"\n",
    "\n",
    "Otherwise → print the number\n"
   ]
  },
  {
   "cell_type": "code",
   "execution_count": 42,
   "id": "3d3a46b3-c7ec-4b8c-8235-0abcb08c4713",
   "metadata": {},
   "outputs": [
    {
     "name": "stdin",
     "output_type": "stream",
     "text": [
      "please enter the number 55\n"
     ]
    },
    {
     "name": "stdout",
     "output_type": "stream",
     "text": [
      "Buzz\n"
     ]
    }
   ],
   "source": [
    "number = int(input(\"please enter the number\"))\n",
    "if number % 3 == 0 and number % 5 == 0:\n",
    "    print(\"FizzBuzz\")\n",
    "elif number % 3 == 0:\n",
    "    print(\"Fizz\")\n",
    "elif number % 5 == 0:\n",
    "    print(\"Buzz\")\n",
    "else:\n",
    "    print(number)"
   ]
  },
  {
   "cell_type": "code",
   "execution_count": null,
   "id": "972dcade-ea09-4e87-9cc0-edcee60faf95",
   "metadata": {},
   "outputs": [],
   "source": []
  },
  {
   "cell_type": "markdown",
   "id": "404950c4-ce9f-4c7e-897e-8794b0553c66",
   "metadata": {},
   "source": [
    "9.Take 3 sides of a triangle as input and determine whether it’s:\n",
    "\n",
    "Equilateral (all sides equal)\n",
    "\n",
    "Isosceles (two sides equal)\n",
    "\n",
    "Scalene (all sides different)\n"
   ]
  },
  {
   "cell_type": "code",
   "execution_count": 51,
   "id": "9bf3a6f9-3efe-4c20-85d9-148b28b08885",
   "metadata": {},
   "outputs": [
    {
     "name": "stdin",
     "output_type": "stream",
     "text": [
      "Enter the first side 2\n",
      "Enter the second side 3\n",
      "Enter the third side 3\n"
     ]
    },
    {
     "name": "stdout",
     "output_type": "stream",
     "text": [
      "Isosceles triangle\n"
     ]
    }
   ],
   "source": [
    "side1 = float(input(\"Enter the first side\"))\n",
    "side2 = float(input(\"Enter the second side\"))\n",
    "side3 = float(input(\"Enter the third side\"))\n",
    "\n",
    "if side1 == side2 == side3:\n",
    "        print(\"Equilateral triangle\")\n",
    "elif side1 == side2 or side1 == side3 or side2 == side3:\n",
    "        print(\"Isosceles triangle\")\n",
    "else:\n",
    "        print(\"Scalene triangle\")\n"
   ]
  },
  {
   "cell_type": "code",
   "execution_count": null,
   "id": "6095aa80-9dac-43cb-ad2c-ac318a608f4d",
   "metadata": {},
   "outputs": [],
   "source": []
  },
  {
   "cell_type": "markdown",
   "id": "574d7a53-9e0b-4eb1-9416-6a45bc806e53",
   "metadata": {},
   "source": [
    "10. Ask the user to enter the current hour (0–23), and display:\n",
    "\n",
    "\"Good Morning\" (5–11)\n",
    "\n",
    "\"Good Afternoon\" (12–16)\n",
    "\n",
    "\"Good Evening\" (17–20)\n",
    "\n",
    "\"Good Night\" (21–4)"
   ]
  },
  {
   "cell_type": "code",
   "execution_count": 52,
   "id": "06d03bcf-a388-44f1-992e-86f2e3e04a35",
   "metadata": {},
   "outputs": [
    {
     "name": "stdin",
     "output_type": "stream",
     "text": [
      "please enter the value 12\n"
     ]
    },
    {
     "name": "stdout",
     "output_type": "stream",
     "text": [
      "good afternoon\n"
     ]
    }
   ],
   "source": [
    "input=int(input(\"please enter the value\"))\n",
    "if 5 <= input <= 11:\n",
    "    print(\"good morning\")\n",
    "elif 12 <= input <= 16:\n",
    "    print(\"good afternoon\")\n",
    "elif 17 <= input <= 20:\n",
    "    print(\"good evening\")\n",
    "else:\n",
    "    print(\"good night\")"
   ]
  },
  {
   "cell_type": "code",
   "execution_count": null,
   "id": "be9ea014-b153-4519-9407-81bac3feea2e",
   "metadata": {},
   "outputs": [],
   "source": []
  },
  {
   "cell_type": "code",
   "execution_count": null,
   "id": "103b1b72-5787-4630-b64d-0537455726c7",
   "metadata": {},
   "outputs": [],
   "source": []
  },
  {
   "cell_type": "code",
   "execution_count": null,
   "id": "ecc2d128-e133-4ba5-bdaf-5a1e7d118ac4",
   "metadata": {},
   "outputs": [],
   "source": []
  },
  {
   "cell_type": "code",
   "execution_count": null,
   "id": "7dee8ea0-8919-484b-a0c1-80601fd0731f",
   "metadata": {},
   "outputs": [],
   "source": []
  },
  {
   "cell_type": "code",
   "execution_count": null,
   "id": "e5600dd6-70b7-47d3-8496-69e2e77db95b",
   "metadata": {},
   "outputs": [],
   "source": []
  },
  {
   "cell_type": "code",
   "execution_count": null,
   "id": "ddfc1487-ccac-4062-8d6d-e5c5e5c4b6b4",
   "metadata": {},
   "outputs": [],
   "source": []
  }
 ],
 "metadata": {
  "kernelspec": {
   "display_name": "Python 3 (ipykernel)",
   "language": "python",
   "name": "python3"
  },
  "language_info": {
   "codemirror_mode": {
    "name": "ipython",
    "version": 3
   },
   "file_extension": ".py",
   "mimetype": "text/x-python",
   "name": "python",
   "nbconvert_exporter": "python",
   "pygments_lexer": "ipython3",
   "version": "3.13.5"
  }
 },
 "nbformat": 4,
 "nbformat_minor": 5
}
