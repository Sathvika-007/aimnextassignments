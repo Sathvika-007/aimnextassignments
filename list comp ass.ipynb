{
 "cells": [
  {
   "cell_type": "markdown",
   "id": "8560b6b7-67d9-42e7-ab55-ab8bb4633665",
   "metadata": {},
   "source": [
    "1.create a list of squares of numbers from 1 to 10 using list comprehension.\n"
   ]
  },
  {
   "cell_type": "code",
   "execution_count": 9,
   "id": "7f8b7e35-6c6a-48e1-a41c-32c75ee3d243",
   "metadata": {},
   "outputs": [],
   "source": [
    "div=[i*i for i in range(1,11)]"
   ]
  },
  {
   "cell_type": "code",
   "execution_count": 10,
   "id": "c54fbdd5-e1e3-43e5-a93c-3e047b94c735",
   "metadata": {},
   "outputs": [
    {
     "data": {
      "text/plain": [
       "[1, 4, 9, 16, 25, 36, 49, 64, 81, 100]"
      ]
     },
     "execution_count": 10,
     "metadata": {},
     "output_type": "execute_result"
    }
   ],
   "source": [
    "div"
   ]
  },
  {
   "cell_type": "code",
   "execution_count": null,
   "id": "594ad66f-88af-4eb7-9b78-96ee609ba8f1",
   "metadata": {},
   "outputs": [],
   "source": []
  },
  {
   "cell_type": "markdown",
   "id": "7c6d9e63-c7ab-446e-a7b9-e01db84b582d",
   "metadata": {},
   "source": [
    "2.Generate a list of even numbers from 1 to 20 using list comprehension"
   ]
  },
  {
   "cell_type": "code",
   "execution_count": 5,
   "id": "b922e0cf-ee86-4833-b77b-86b60db934fd",
   "metadata": {},
   "outputs": [],
   "source": [
    "add=[i for i in range(1,21) if i%2==0]"
   ]
  },
  {
   "cell_type": "code",
   "execution_count": 6,
   "id": "6be1306f-54bc-49d2-907b-ebe99e736017",
   "metadata": {},
   "outputs": [
    {
     "data": {
      "text/plain": [
       "[2, 4, 6, 8, 10, 12, 14, 16, 18, 20]"
      ]
     },
     "execution_count": 6,
     "metadata": {},
     "output_type": "execute_result"
    }
   ],
   "source": [
    "add"
   ]
  },
  {
   "cell_type": "code",
   "execution_count": null,
   "id": "5636e41a-c7cc-46b2-9f18-3e7ba8f96769",
   "metadata": {},
   "outputs": [],
   "source": []
  },
  {
   "cell_type": "markdown",
   "id": "adaaf977-80d5-44ca-8edf-33009c4ddddd",
   "metadata": {},
   "source": [
    "3.Create a list of the first letters of each word in the list: [\"apple\", \"banana\", \"cherry\", \"date\"].\n"
   ]
  },
  {
   "cell_type": "code",
   "execution_count": 11,
   "id": "290a7e8b-c819-4f03-a09c-c4a808380e64",
   "metadata": {},
   "outputs": [],
   "source": [
    "l=[\"apple\", \"banana\", \"cherry\", \"date\"]"
   ]
  },
  {
   "cell_type": "code",
   "execution_count": 14,
   "id": "d58af347-050d-4cb3-8d68-179ecd3fc083",
   "metadata": {},
   "outputs": [],
   "source": [
    "list=[word[0] for word in l]"
   ]
  },
  {
   "cell_type": "code",
   "execution_count": 15,
   "id": "97dc1c55-e42e-45f6-880c-e72e74a9bc72",
   "metadata": {},
   "outputs": [
    {
     "data": {
      "text/plain": [
       "['a', 'b', 'c', 'd']"
      ]
     },
     "execution_count": 15,
     "metadata": {},
     "output_type": "execute_result"
    }
   ],
   "source": [
    "list"
   ]
  },
  {
   "cell_type": "code",
   "execution_count": null,
   "id": "ae045cc6-084e-45ad-9b29-a98de79925c2",
   "metadata": {},
   "outputs": [],
   "source": []
  },
  {
   "cell_type": "markdown",
   "id": "d82e5622-529a-40a6-8c79-7c3eebbf14be",
   "metadata": {},
   "source": [
    "4.Convert a list of temperatures in Celsius [0, 10, 20, 30, 40] to Fahrenheit using list comprehension. (Formula: F = (C * 9/5) + 32)\n",
    "\n"
   ]
  },
  {
   "cell_type": "code",
   "execution_count": 1,
   "id": "ae10c41a-16c5-4ca5-b8ae-09a9ee6ab070",
   "metadata": {},
   "outputs": [],
   "source": [
    "celsius=[0,10,20,30,40]\n",
    "fahrenheit=list(map(lambda c: (c*9/5)+32,celsius))"
   ]
  },
  {
   "cell_type": "code",
   "execution_count": 2,
   "id": "ee6eb3f9-921e-47c9-9c05-e6424e7519f1",
   "metadata": {},
   "outputs": [
    {
     "data": {
      "text/plain": [
       "[32.0, 50.0, 68.0, 86.0, 104.0]"
      ]
     },
     "execution_count": 2,
     "metadata": {},
     "output_type": "execute_result"
    }
   ],
   "source": [
    "fahrenheit"
   ]
  },
  {
   "cell_type": "code",
   "execution_count": null,
   "id": "5afe9b5f-71e3-479b-9824-097a58582ca1",
   "metadata": {},
   "outputs": [],
   "source": []
  },
  {
   "cell_type": "markdown",
   "id": "ee79e0fa-8b84-4e17-be15-0827ad3a75b9",
   "metadata": {},
   "source": [
    "5.Create a list of the first 10 natural numbers using list comprehension.\n"
   ]
  },
  {
   "cell_type": "code",
   "execution_count": 4,
   "id": "8a33b500-1a50-4b22-b9ff-9a53e3e8d098",
   "metadata": {},
   "outputs": [],
   "source": [
    "num=[i for i in range(1,11)]"
   ]
  },
  {
   "cell_type": "code",
   "execution_count": 5,
   "id": "3cd4ae77-d809-4b4e-8507-435f0954e93b",
   "metadata": {},
   "outputs": [
    {
     "data": {
      "text/plain": [
       "[1, 2, 3, 4, 5, 6, 7, 8, 9, 10]"
      ]
     },
     "execution_count": 5,
     "metadata": {},
     "output_type": "execute_result"
    }
   ],
   "source": [
    "num"
   ]
  },
  {
   "cell_type": "code",
   "execution_count": null,
   "id": "dcef3a31-3f16-4569-a74e-ac9eb7246b5a",
   "metadata": {},
   "outputs": [],
   "source": []
  },
  {
   "cell_type": "markdown",
   "id": "bb6824d7-83c4-4023-9b98-d75193f1927d",
   "metadata": {},
   "source": [
    "6.Generate a list of cubes of numbers from 1 to 10."
   ]
  },
  {
   "cell_type": "code",
   "execution_count": 6,
   "id": "ed81f2aa-88e0-416a-b90c-f863021601e6",
   "metadata": {},
   "outputs": [],
   "source": [
    "l=[i**3 for i in range(1,11)]"
   ]
  },
  {
   "cell_type": "code",
   "execution_count": 7,
   "id": "21c359b3-298c-4b8d-96c8-9c11aebd9e60",
   "metadata": {},
   "outputs": [
    {
     "data": {
      "text/plain": [
       "[1, 8, 27, 64, 125, 216, 343, 512, 729, 1000]"
      ]
     },
     "execution_count": 7,
     "metadata": {},
     "output_type": "execute_result"
    }
   ],
   "source": [
    "l"
   ]
  },
  {
   "cell_type": "code",
   "execution_count": null,
   "id": "ca490391-407c-4697-bab7-ba769d5d1b60",
   "metadata": {},
   "outputs": [],
   "source": []
  },
  {
   "cell_type": "markdown",
   "id": "dfc63519-38db-460c-aef6-6333061136c1",
   "metadata": {},
   "source": [
    "7.Given a string \"Python is fun\", create a list of words in the string.\n"
   ]
  },
  {
   "cell_type": "code",
   "execution_count": 21,
   "id": "e0278d3d-b8f3-4e73-b9a4-5dd246ba6e02",
   "metadata": {},
   "outputs": [],
   "source": [
    "l=\"python is fun\"\n",
    "div=[word for word in l.split()]"
   ]
  },
  {
   "cell_type": "code",
   "execution_count": 22,
   "id": "02521b2a-eafe-4a63-b700-e01837bb0306",
   "metadata": {},
   "outputs": [
    {
     "data": {
      "text/plain": [
       "['python', 'is', 'fun']"
      ]
     },
     "execution_count": 22,
     "metadata": {},
     "output_type": "execute_result"
    }
   ],
   "source": [
    "div"
   ]
  },
  {
   "cell_type": "code",
   "execution_count": null,
   "id": "af0af309-20b1-4133-bd0a-872d72e672c8",
   "metadata": {},
   "outputs": [],
   "source": []
  },
  {
   "cell_type": "markdown",
   "id": "58ed6a35-eb03-4a35-9281-deb2b0b989da",
   "metadata": {},
   "source": [
    "8.Convert a list of strings [\"Hello\", \"World\", \"Python\"] to uppercase using list comprehension.\n",
    "\n"
   ]
  },
  {
   "cell_type": "code",
   "execution_count": 33,
   "id": "68a6f0d4-4202-4686-a62b-f769695b5ae7",
   "metadata": {},
   "outputs": [],
   "source": [
    "s= [\"Hello\", \"World\", \"Python\"]\n",
    "new=[word.upper() for word in s]"
   ]
  },
  {
   "cell_type": "code",
   "execution_count": 34,
   "id": "e2890303-db10-40b3-b866-19da8d5761e1",
   "metadata": {},
   "outputs": [
    {
     "data": {
      "text/plain": [
       "['HELLO', 'WORLD', 'PYTHON']"
      ]
     },
     "execution_count": 34,
     "metadata": {},
     "output_type": "execute_result"
    }
   ],
   "source": [
    "new"
   ]
  },
  {
   "cell_type": "code",
   "execution_count": null,
   "id": "48e7aabf-eec9-4678-ac2e-ab71f4f092c3",
   "metadata": {},
   "outputs": [],
   "source": []
  },
  {
   "cell_type": "markdown",
   "id": "21d042eb-4229-408d-95b2-819a006fb449",
   "metadata": {},
   "source": [
    "Conditional List Comprehension\n",
    "\n"
   ]
  },
  {
   "cell_type": "markdown",
   "id": "ac485a83-3636-40b8-8ac0-9307826310c1",
   "metadata": {},
   "source": [
    "1.Create a list of numbers from 1 to 50 that are divisible by both 3 and 5."
   ]
  },
  {
   "cell_type": "code",
   "execution_count": 35,
   "id": "4ef02580-c4b6-417f-976b-9f0a3655b6f4",
   "metadata": {},
   "outputs": [],
   "source": [
    "num=[i for i in range(1,51) if i%3==0 and i%5==0]"
   ]
  },
  {
   "cell_type": "code",
   "execution_count": 36,
   "id": "4462781b-84dd-47f9-975b-cbd714e02703",
   "metadata": {},
   "outputs": [
    {
     "data": {
      "text/plain": [
       "[15, 30, 45]"
      ]
     },
     "execution_count": 36,
     "metadata": {},
     "output_type": "execute_result"
    }
   ],
   "source": [
    "num"
   ]
  },
  {
   "cell_type": "code",
   "execution_count": null,
   "id": "51d5ffdd-cde3-4364-9d44-af849520c957",
   "metadata": {},
   "outputs": [],
   "source": []
  },
  {
   "cell_type": "markdown",
   "id": "f780087c-bf8a-465f-af40-b7494b697e45",
   "metadata": {},
   "source": [
    "2.Given a list of numbers [1, 2, 3, 4, 5, 6, 7, 8, 9, 10], create a new list containing only the odd numbers.\n"
   ]
  },
  {
   "cell_type": "code",
   "execution_count": 41,
   "id": "5c4a09dc-5691-418e-9f3d-69b11c1c18fa",
   "metadata": {},
   "outputs": [],
   "source": [
    "l=[1, 2, 3, 4, 5, 6, 7, 8, 9, 10]\n",
    "n=[i for i in l if i%2!=0]"
   ]
  },
  {
   "cell_type": "code",
   "execution_count": 42,
   "id": "4703ab76-c211-480b-b9fe-f0c1836a854a",
   "metadata": {},
   "outputs": [
    {
     "data": {
      "text/plain": [
       "[1, 3, 5, 7, 9]"
      ]
     },
     "execution_count": 42,
     "metadata": {},
     "output_type": "execute_result"
    }
   ],
   "source": [
    "n"
   ]
  },
  {
   "cell_type": "code",
   "execution_count": null,
   "id": "268d7395-85cc-4472-b8c1-6a1d4a119bf9",
   "metadata": {},
   "outputs": [],
   "source": []
  },
  {
   "cell_type": "markdown",
   "id": "da489f0e-b232-453a-a9ab-a33186fea69a",
   "metadata": {},
   "source": [
    "3.Given a string \"hello world\", create a list of vowels present in the string."
   ]
  },
  {
   "cell_type": "code",
   "execution_count": 45,
   "id": "743da5d3-76ed-49a3-a6b2-ec771514c7ab",
   "metadata": {},
   "outputs": [],
   "source": [
    "s=\"hello  world\"\n",
    "new=[char for char in s if char in \"aeiou\"]"
   ]
  },
  {
   "cell_type": "code",
   "execution_count": 46,
   "id": "6cf6f68c-c170-4049-ad15-ce4427ae3bac",
   "metadata": {},
   "outputs": [
    {
     "data": {
      "text/plain": [
       "['e', 'o', 'o']"
      ]
     },
     "execution_count": 46,
     "metadata": {},
     "output_type": "execute_result"
    }
   ],
   "source": [
    "new"
   ]
  },
  {
   "cell_type": "code",
   "execution_count": null,
   "id": "e1c4d0c5-e099-4d30-ab53-09b1ccf6241f",
   "metadata": {},
   "outputs": [],
   "source": []
  },
  {
   "cell_type": "markdown",
   "id": "b6f47ee6-0fb1-4b1f-8786-addceeee0979",
   "metadata": {},
   "source": [
    "4.Convert a list of words [\"Hello\", \"WORLD\", \"Python\", \"LiSt\"] to lowercase using list comprehension."
   ]
  },
  {
   "cell_type": "code",
   "execution_count": 49,
   "id": "8c6e9236-8489-438d-9588-21ea87fc65ab",
   "metadata": {},
   "outputs": [],
   "source": [
    "s=[\"Hello\", \"WORLD\", \"Python\", \"LiSt\"]\n",
    "lower=[word.lower() for word in s]"
   ]
  },
  {
   "cell_type": "code",
   "execution_count": 50,
   "id": "7adf9fa0-61cc-4c8d-add2-5d2b43aeaa82",
   "metadata": {},
   "outputs": [
    {
     "data": {
      "text/plain": [
       "['hello', 'world', 'python', 'list']"
      ]
     },
     "execution_count": 50,
     "metadata": {},
     "output_type": "execute_result"
    }
   ],
   "source": [
    "lower"
   ]
  },
  {
   "cell_type": "code",
   "execution_count": null,
   "id": "7c7c6e1f-518b-4740-adf2-2b45bffe38e8",
   "metadata": {},
   "outputs": [],
   "source": []
  },
  {
   "cell_type": "markdown",
   "id": "807a680b-1ba3-4c4c-88d7-6b9a6f161fa1",
   "metadata": {},
   "source": [
    "5.Create a list of even numbers from 1 to 50."
   ]
  },
  {
   "cell_type": "code",
   "execution_count": 53,
   "id": "f3dd4da4-560d-4c8b-9d89-c4474f816afb",
   "metadata": {},
   "outputs": [],
   "source": [
    "even=[i for i in range(1,51) if i%2==0]"
   ]
  },
  {
   "cell_type": "code",
   "execution_count": 54,
   "id": "37fcd611-f70c-4b8a-b6cf-e75a754ee413",
   "metadata": {},
   "outputs": [
    {
     "data": {
      "text/plain": [
       "[2,\n",
       " 4,\n",
       " 6,\n",
       " 8,\n",
       " 10,\n",
       " 12,\n",
       " 14,\n",
       " 16,\n",
       " 18,\n",
       " 20,\n",
       " 22,\n",
       " 24,\n",
       " 26,\n",
       " 28,\n",
       " 30,\n",
       " 32,\n",
       " 34,\n",
       " 36,\n",
       " 38,\n",
       " 40,\n",
       " 42,\n",
       " 44,\n",
       " 46,\n",
       " 48,\n",
       " 50]"
      ]
     },
     "execution_count": 54,
     "metadata": {},
     "output_type": "execute_result"
    }
   ],
   "source": [
    "even"
   ]
  },
  {
   "cell_type": "code",
   "execution_count": null,
   "id": "ed4c6f89-ce1e-4378-a148-5c258a97a382",
   "metadata": {},
   "outputs": [],
   "source": []
  },
  {
   "cell_type": "markdown",
   "id": "c6f602f6-f940-4866-b144-a83b9a8f55a8",
   "metadata": {},
   "source": [
    "6.Generate a list of numbers from 1 to 20 that are not divisible by 3"
   ]
  },
  {
   "cell_type": "code",
   "execution_count": 55,
   "id": "f63d22fa-5bc6-40bd-b049-7443c20fa324",
   "metadata": {},
   "outputs": [],
   "source": [
    "s=[i for i in range(1,21) if i%3!=0]"
   ]
  },
  {
   "cell_type": "code",
   "execution_count": 56,
   "id": "8af54f9a-3902-40fe-823f-14c2b1649aab",
   "metadata": {},
   "outputs": [
    {
     "data": {
      "text/plain": [
       "[1, 2, 4, 5, 7, 8, 10, 11, 13, 14, 16, 17, 19, 20]"
      ]
     },
     "execution_count": 56,
     "metadata": {},
     "output_type": "execute_result"
    }
   ],
   "source": [
    "s"
   ]
  },
  {
   "cell_type": "code",
   "execution_count": null,
   "id": "82abfee6-6894-41ae-9673-50964d4ce73f",
   "metadata": {},
   "outputs": [],
   "source": []
  },
  {
   "cell_type": "markdown",
   "id": "4475013f-529e-4839-8214-aa3471f77634",
   "metadata": {},
   "source": [
    "7.Given a list [5, 12, 17, 9, 3, 21, 30], create a new list containing only numbers greater than 10."
   ]
  },
  {
   "cell_type": "code",
   "execution_count": 61,
   "id": "ef6ce41a-30cb-4464-8ff1-35e0031657d9",
   "metadata": {},
   "outputs": [],
   "source": [
    "s=[5,12,17,9,3,21,30]\n",
    "new=[num for num in s if num>10]"
   ]
  },
  {
   "cell_type": "code",
   "execution_count": 62,
   "id": "ac85fad8-a096-4870-ae54-2910434c4885",
   "metadata": {},
   "outputs": [
    {
     "data": {
      "text/plain": [
       "[12, 17, 21, 30]"
      ]
     },
     "execution_count": 62,
     "metadata": {},
     "output_type": "execute_result"
    }
   ],
   "source": [
    "new"
   ]
  },
  {
   "cell_type": "code",
   "execution_count": null,
   "id": "0f103e11-437b-466f-abd5-152e394fb999",
   "metadata": {},
   "outputs": [],
   "source": []
  },
  {
   "cell_type": "markdown",
   "id": "b66fa0a0-3242-461a-84a1-361bfdc6e026",
   "metadata": {},
   "source": [
    "8.Create a list of squares of only the even numbers from 1 to 10."
   ]
  },
  {
   "cell_type": "code",
   "execution_count": 63,
   "id": "97c78310-f9e5-46d3-b9b0-365fc1058a10",
   "metadata": {},
   "outputs": [],
   "source": [
    "squ=[i*i for i in range(1,11) if i%2==0]"
   ]
  },
  {
   "cell_type": "code",
   "execution_count": 64,
   "id": "2115c9f0-5f22-48f1-87b0-c4e1cbb3e2d9",
   "metadata": {},
   "outputs": [
    {
     "data": {
      "text/plain": [
       "[4, 16, 36, 64, 100]"
      ]
     },
     "execution_count": 64,
     "metadata": {},
     "output_type": "execute_result"
    }
   ],
   "source": [
    "squ"
   ]
  },
  {
   "cell_type": "code",
   "execution_count": null,
   "id": "37d37ab3-b099-4c59-b5c8-aae6c2400b70",
   "metadata": {},
   "outputs": [],
   "source": []
  },
  {
   "cell_type": "markdown",
   "id": "293b4cf8-be05-4b66-a570-4fcd5f126c1f",
   "metadata": {},
   "source": [
    "9.given a list of words [\"dog\", \"elephant\", \"cat\", \"rabbit\"], create a new list containing only words with more than 3 letters."
   ]
  },
  {
   "cell_type": "code",
   "execution_count": 69,
   "id": "b7b1a084-342e-45d6-a800-3f518c610882",
   "metadata": {},
   "outputs": [
    {
     "ename": "TypeError",
     "evalue": "'>' not supported between instances of 'str' and 'int'",
     "output_type": "error",
     "traceback": [
      "\u001b[1;31m---------------------------------------------------------------------------\u001b[0m",
      "\u001b[1;31mTypeError\u001b[0m                                 Traceback (most recent call last)",
      "Cell \u001b[1;32mIn[69], line 2\u001b[0m\n\u001b[0;32m      1\u001b[0m s\u001b[38;5;241m=\u001b[39m[\u001b[38;5;124m\"\u001b[39m\u001b[38;5;124mdog\u001b[39m\u001b[38;5;124m\"\u001b[39m, \u001b[38;5;124m\"\u001b[39m\u001b[38;5;124melephant\u001b[39m\u001b[38;5;124m\"\u001b[39m, \u001b[38;5;124m\"\u001b[39m\u001b[38;5;124mcat\u001b[39m\u001b[38;5;124m\"\u001b[39m, \u001b[38;5;124m\"\u001b[39m\u001b[38;5;124mrabbit\u001b[39m\u001b[38;5;124m\"\u001b[39m]\n\u001b[1;32m----> 2\u001b[0m new\u001b[38;5;241m=\u001b[39m[word \u001b[38;5;28;01mfor\u001b[39;00m word \u001b[38;5;129;01min\u001b[39;00m s \u001b[38;5;28;01mif\u001b[39;00m \u001b[38;5;28mlen\u001b[39m(word\u001b[38;5;241m>\u001b[39m\u001b[38;5;241m3\u001b[39m)]\n",
      "\u001b[1;31mTypeError\u001b[0m: '>' not supported between instances of 'str' and 'int'"
     ]
    }
   ],
   "source": [
    "s=[\"dog\", \"elephant\", \"cat\", \"rabbit\"]\n",
    "new=[word for word in s if len(word>3)]"
   ]
  },
  {
   "cell_type": "code",
   "execution_count": null,
   "id": "83a0c81b-2485-4352-85fc-2d60f5f34c8b",
   "metadata": {},
   "outputs": [],
   "source": []
  },
  {
   "cell_type": "code",
   "execution_count": null,
   "id": "b24d30eb-55a8-4382-8fe6-32af9554ca43",
   "metadata": {},
   "outputs": [],
   "source": []
  }
 ],
 "metadata": {
  "kernelspec": {
   "display_name": "Python 3 (ipykernel)",
   "language": "python",
   "name": "python3"
  },
  "language_info": {
   "codemirror_mode": {
    "name": "ipython",
    "version": 3
   },
   "file_extension": ".py",
   "mimetype": "text/x-python",
   "name": "python",
   "nbconvert_exporter": "python",
   "pygments_lexer": "ipython3",
   "version": "3.13.5"
  }
 },
 "nbformat": 4,
 "nbformat_minor": 5
}
