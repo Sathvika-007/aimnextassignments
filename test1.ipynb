{
 "cells": [
  {
   "cell_type": "markdown",
   "id": "c11e9f50-fbb8-4b29-b685-159746c6f9b9",
   "metadata": {},
   "source": [
    "1.EVEN OR ODD"
   ]
  },
  {
   "cell_type": "code",
   "execution_count": 2,
   "id": "147107a8-b2f4-4984-82ff-f7be1a85a0a3",
   "metadata": {},
   "outputs": [
    {
     "name": "stdin",
     "output_type": "stream",
     "text": [
      "please enter the number 3\n"
     ]
    },
    {
     "name": "stdout",
     "output_type": "stream",
     "text": [
      "the number is odd\n"
     ]
    }
   ],
   "source": [
    "num=int(input(\"please enter the number\"))\n",
    "if num%2==0:\n",
    "    print(\"the number is even\")\n",
    "else:\n",
    "    print(\"the number is odd\")"
   ]
  },
  {
   "cell_type": "code",
   "execution_count": null,
   "id": "923ba749-1603-4ad6-9083-822370275153",
   "metadata": {},
   "outputs": [],
   "source": []
  },
  {
   "cell_type": "markdown",
   "id": "c1c4655b-7c79-4ad3-9a30-0fe627dc2fbe",
   "metadata": {},
   "source": [
    "2 . positive,negtive,or zero"
   ]
  },
  {
   "cell_type": "code",
   "execution_count": 7,
   "id": "7ad0eb12-fde0-4c6a-95d4-ce8e337c4314",
   "metadata": {},
   "outputs": [
    {
     "name": "stdin",
     "output_type": "stream",
     "text": [
      "please enter the number 3\n"
     ]
    },
    {
     "name": "stdout",
     "output_type": "stream",
     "text": [
      "the number is positive\n"
     ]
    }
   ],
   "source": [
    "num=int(input(\"please enter the number\"))\n",
    "if num>1:\n",
    "    print(\"the number is positive\")\n",
    "elif num<0:\n",
    "    print(\"the number is negative\")\n",
    "else:\n",
    "    print(\"the number is zero\")"
   ]
  },
  {
   "cell_type": "code",
   "execution_count": null,
   "id": "48eeeaca-baf7-41da-9393-f2c158ac8f8a",
   "metadata": {},
   "outputs": [],
   "source": []
  },
  {
   "cell_type": "markdown",
   "id": "d6aa3852-ab67-4a62-ae84-7fc8b9e683da",
   "metadata": {},
   "source": [
    "3.FIND THE LARGEST NUMBER"
   ]
  },
  {
   "cell_type": "code",
   "execution_count": 10,
   "id": "c9c4b459-4489-4b50-8268-965f0c8e0686",
   "metadata": {},
   "outputs": [
    {
     "name": "stdin",
     "output_type": "stream",
     "text": [
      "please enter the number1 4\n",
      "please enter the number2 3\n",
      "please enter the number3 2\n"
     ]
    },
    {
     "name": "stdout",
     "output_type": "stream",
     "text": [
      "num1 is larger number\n"
     ]
    }
   ],
   "source": [
    "num1 = int(input(\"please enter the number1\"))\n",
    "num2 = int(input(\"please enter the number2\"))\n",
    "num3 = int(input(\"please enter the number3\"))\n",
    "if num1>num2&num3:\n",
    "    print(\"num1 is larger number\")\n",
    "elif num2>num1&num3:\n",
    "    print(\"num2 is larger number\")\n",
    "elif num3>num1&num2:\n",
    "    print(\"num3 is larger number\")\n",
    "else:\n",
    "    print(\"all are equal\")"
   ]
  },
  {
   "cell_type": "code",
   "execution_count": null,
   "id": "bf54552a-d160-4e70-9f52-ececd2019a74",
   "metadata": {},
   "outputs": [],
   "source": []
  },
  {
   "cell_type": "markdown",
   "id": "3b121719-0155-45f7-a29f-608d7971a913",
   "metadata": {},
   "source": [
    "3. LEAP YEAR CHECK"
   ]
  },
  {
   "cell_type": "code",
   "execution_count": 12,
   "id": "a833facc-0c4d-4c12-b04b-2cb9630bc954",
   "metadata": {},
   "outputs": [
    {
     "name": "stdin",
     "output_type": "stream",
     "text": [
      "please enter the number 2024\n"
     ]
    },
    {
     "name": "stdout",
     "output_type": "stream",
     "text": [
      "it is a leap year\n"
     ]
    }
   ],
   "source": [
    "n = int(input(\"please enter the number\"))\n",
    "if n%4==0:\n",
    "    print(\"it is a leap year\")\n",
    "else:\n",
    "    print(\"it is not a leap year\")"
   ]
  },
  {
   "cell_type": "code",
   "execution_count": null,
   "id": "03d337c3-c8a1-4e7b-a7cb-9abfaf96535b",
   "metadata": {},
   "outputs": [],
   "source": []
  },
  {
   "cell_type": "markdown",
   "id": "204e37d0-7052-499c-8a2c-c1be52f02e67",
   "metadata": {},
   "source": [
    "4.VOWEL OR CONSONANT"
   ]
  },
  {
   "cell_type": "code",
   "execution_count": null,
   "id": "5ae1eea5-4e55-43ce-8762-99f54f03f9e6",
   "metadata": {},
   "outputs": [],
   "source": [
    "n = int(input(\"please enter the value\"))\n",
    "vowels = (\"a,e,i,o,u\")\n",
    "if vowels in n:\n",
    "    print(\"It is a vowel\")\n",
    "else:\n",
    "    print(\"It is a consonant\")"
   ]
  },
  {
   "cell_type": "code",
   "execution_count": null,
   "id": "e2df49ab-95f6-46d5-be40-cc63d0a347cb",
   "metadata": {},
   "outputs": [],
   "source": []
  },
  {
   "cell_type": "markdown",
   "id": "c6a88773-3e68-4d0b-abd8-d62b3371a076",
   "metadata": {},
   "source": [
    "5.DIVISIBLE BY 3 AND 5"
   ]
  },
  {
   "cell_type": "code",
   "execution_count": 16,
   "id": "8151460f-5495-4bc7-a014-b5091a972097",
   "metadata": {},
   "outputs": [
    {
     "name": "stdin",
     "output_type": "stream",
     "text": [
      "please enter the value 17\n"
     ]
    },
    {
     "name": "stdout",
     "output_type": "stream",
     "text": [
      "the number is not divisible by both 3 and 5\n"
     ]
    }
   ],
   "source": [
    "n = int(input(\"please enter the value\"))\n",
    "if n%3==0 & n%5==0:\n",
    "    print(\"The number is divisible by both 3 and 5\")\n",
    "else:\n",
    "    print(\"the number is not divisible by both 3 and 5\")"
   ]
  },
  {
   "cell_type": "code",
   "execution_count": null,
   "id": "ae2e9cf2-3cd7-42a4-805f-97cfa1705b33",
   "metadata": {},
   "outputs": [],
   "source": []
  },
  {
   "cell_type": "markdown",
   "id": "8063f403-d32f-425d-9405-b954b0b8a8a8",
   "metadata": {},
   "source": [
    "6.PRINT NUMBERS FROM 1 TO 20"
   ]
  },
  {
   "cell_type": "code",
   "execution_count": 18,
   "id": "d9482faf-7222-4c09-b5bb-85e396a82aea",
   "metadata": {},
   "outputs": [
    {
     "name": "stdout",
     "output_type": "stream",
     "text": [
      "1\n",
      "2\n",
      "3\n",
      "4\n",
      "5\n",
      "6\n",
      "7\n",
      "8\n",
      "9\n",
      "10\n",
      "11\n",
      "12\n",
      "13\n",
      "14\n",
      "15\n",
      "16\n",
      "17\n",
      "18\n",
      "19\n",
      "20\n"
     ]
    }
   ],
   "source": [
    "a = 1,2,3,4,5,6,7,8,9,10,11,12,13,14,15,16,17,18,19,20\n",
    "for i in a:\n",
    "    print(i)"
   ]
  },
  {
   "cell_type": "code",
   "execution_count": null,
   "id": "3de14317-7fe0-4c7a-a445-7db824e4850d",
   "metadata": {},
   "outputs": [],
   "source": []
  },
  {
   "cell_type": "markdown",
   "id": "b8c47a2e-00bd-400e-a889-eaca43241c15",
   "metadata": {},
   "source": [
    "7 . PRINT EVEN NUMBERS FROM 1 TO 50"
   ]
  },
  {
   "cell_type": "code",
   "execution_count": 20,
   "id": "7de415ab-79cc-4f3e-87eb-85829bf1250d",
   "metadata": {},
   "outputs": [
    {
     "name": "stdout",
     "output_type": "stream",
     "text": [
      "2\n",
      "4\n",
      "6\n",
      "8\n",
      "10\n",
      "12\n",
      "14\n",
      "16\n",
      "18\n",
      "20\n",
      "22\n",
      "24\n",
      "26\n",
      "28\n",
      "30\n",
      "32\n",
      "34\n",
      "36\n",
      "38\n",
      "40\n",
      "42\n",
      "44\n",
      "46\n",
      "48\n",
      "50\n"
     ]
    }
   ],
   "source": [
    "for number in range(1, 51):\n",
    "    if number % 2 == 0:\n",
    "        print(number)\n",
    "    "
   ]
  },
  {
   "cell_type": "markdown",
   "id": "dcb8add6-22f1-48e8-9ae1-1f2ab9bd17fb",
   "metadata": {},
   "source": []
  },
  {
   "cell_type": "markdown",
   "id": "69c73ff3-127d-4272-b027-ab588bc86886",
   "metadata": {},
   "source": [
    "9. SUM OF NUMBERS"
   ]
  },
  {
   "cell_type": "code",
   "execution_count": 23,
   "id": "e65a1ce9-379d-4b31-a3e2-3f8cfe192fce",
   "metadata": {},
   "outputs": [
    {
     "name": "stdout",
     "output_type": "stream",
     "text": [
      "Sum from 1 to 100 is: 5050\n"
     ]
    }
   ],
   "source": [
    "total = sum(range(1, 101))\n",
    "print(\"Sum from 1 to 100 is:\", total)"
   ]
  },
  {
   "cell_type": "code",
   "execution_count": null,
   "id": "d6d98703-caa5-4121-a1b9-8c9e5486b974",
   "metadata": {},
   "outputs": [],
   "source": []
  },
  {
   "cell_type": "markdown",
   "id": "07015c88-42db-43e4-a5b1-809f9ebaa4ff",
   "metadata": {},
   "source": [
    "10. MULTIPLICATION TABLE"
   ]
  },
  {
   "cell_type": "code",
   "execution_count": 25,
   "id": "91d739d4-5119-45ba-a9d1-5bd98ac0db61",
   "metadata": {},
   "outputs": [
    {
     "name": "stdin",
     "output_type": "stream",
     "text": [
      "please enter the value 10\n"
     ]
    },
    {
     "name": "stdout",
     "output_type": "stream",
     "text": [
      "10 x 0 = 0\n",
      "10 x 1 = 10\n",
      "10 x 2 = 20\n",
      "10 x 3 = 30\n",
      "10 x 4 = 40\n",
      "10 x 5 = 50\n",
      "10 x 6 = 60\n",
      "10 x 7 = 70\n",
      "10 x 8 = 80\n",
      "10 x 9 = 90\n"
     ]
    }
   ],
   "source": [
    "n = int(input(\"please enter the value\"))\n",
    "for i in range(n):\n",
    "    print(f\"{n} x {i} = {n * i}\")\n"
   ]
  },
  {
   "cell_type": "code",
   "execution_count": null,
   "id": "f510a565-1087-4e8d-bb14-3b9b8d60de58",
   "metadata": {},
   "outputs": [],
   "source": []
  },
  {
   "cell_type": "markdown",
   "id": "1f0442dd-ce4d-4649-8f39-137a990cc399",
   "metadata": {},
   "source": [
    "11. FILTER LIST ELEMENTS"
   ]
  },
  {
   "cell_type": "code",
   "execution_count": null,
   "id": "0fd6437e-cef3-40c7-92f8-0f5d91252175",
   "metadata": {},
   "outputs": [],
   "source": [
    "v = [1,2,3,23,54,12,67,89,11]\n",
    "while num >10:\n",
    "    print(num)\n",
    "    num+=1"
   ]
  },
  {
   "cell_type": "code",
   "execution_count": null,
   "id": "c2b5556e-ccb8-43a5-9690-404ac4ce6f7b",
   "metadata": {},
   "outputs": [],
   "source": []
  },
  {
   "cell_type": "markdown",
   "id": "a08545e4-67ab-4360-beae-be2fd6a7238c",
   "metadata": {},
   "source": [
    "12. BREAK ON CONDITION"
   ]
  },
  {
   "cell_type": "code",
   "execution_count": 31,
   "id": "12d9af6c-7cba-4512-a0e2-67a10a672e74",
   "metadata": {},
   "outputs": [
    {
     "name": "stdout",
     "output_type": "stream",
     "text": [
      "1\n",
      "2\n",
      "3\n",
      "4\n",
      "5\n",
      "6\n",
      "7\n",
      "8\n",
      "9\n",
      "10\n"
     ]
    }
   ],
   "source": [
    "num = 1\n",
    "\n",
    "while num <= 10:\n",
    "    print(num)\n",
    "    num += 1"
   ]
  },
  {
   "cell_type": "code",
   "execution_count": null,
   "id": "658c6ef5-557a-4c38-90e8-9ca162627f0b",
   "metadata": {},
   "outputs": [],
   "source": []
  },
  {
   "cell_type": "markdown",
   "id": "a8e91373-215d-4555-9cea-e480bb80a57f",
   "metadata": {},
   "source": [
    "14.GRADE CALCULATOR"
   ]
  },
  {
   "cell_type": "code",
   "execution_count": 4,
   "id": "9874fccd-fa92-4032-8d22-d6d452ebfc2b",
   "metadata": {},
   "outputs": [
    {
     "name": "stdin",
     "output_type": "stream",
     "text": [
      "please enter the percentage 93\n"
     ]
    },
    {
     "name": "stdout",
     "output_type": "stream",
     "text": [
      "A grade\n"
     ]
    }
   ],
   "source": [
    "n = int(input(\"please enter the percentage\"))\n",
    "if n>90 & n<100:\n",
    "    print(\"A grade\")\n",
    "elif n>80 & n<89:\n",
    "    print(\"B grade\")\n",
    "elif n>70 & n<79:\n",
    "    print(\"C grade\")\n",
    "elif n>60 & n<69:\n",
    "    print(\"D grade\")\n",
    "else:\n",
    "    print(\"F grade\")\n",
    "    "
   ]
  },
  {
   "cell_type": "code",
   "execution_count": null,
   "id": "637e8abd-df0e-417c-9220-b6bbd447b043",
   "metadata": {},
   "outputs": [],
   "source": []
  },
  {
   "cell_type": "markdown",
   "id": "62b40762-e01e-4c3d-a057-4a2a851b7d97",
   "metadata": {},
   "source": [
    "15.FIND SMALLEST NUMBER"
   ]
  },
  {
   "cell_type": "code",
   "execution_count": 6,
   "id": "74923a88-1997-4526-a6da-a1aa4ffdb88d",
   "metadata": {},
   "outputs": [
    {
     "name": "stdin",
     "output_type": "stream",
     "text": [
      "please enter the num1 19\n",
      "please enter the num2 55\n",
      "please enter the num3 29\n",
      "please enter the num4 11\n",
      "please enter the num5 5\n"
     ]
    },
    {
     "name": "stdout",
     "output_type": "stream",
     "text": [
      "n5 is smaller\n"
     ]
    }
   ],
   "source": [
    "n1 = int(input(\"please enter the num1\"))\n",
    "n2= int(input(\"please enter the num2\"))\n",
    "n3= int(input(\"please enter the num3\"))\n",
    "n4= int(input(\"please enter the num4\"))\n",
    "n5= int(input(\"please enter the num5\"))\n",
    "if n1<n2&n3&n4&n5:\n",
    "    print(\"n1 is smaller\")\n",
    "elif n2<n1&n3&n4&n5:\n",
    "    print(\"n2 is smaller\")\n",
    "elif n3<n1&n2&n4&n5:\n",
    "    print(\"n3 is smaller\")\n",
    "elif n4<n1&n2&n3&n5:\n",
    "    print(\"n4 is smaller\")\n",
    "else:\n",
    "    print(\"n5 is smaller\")\n",
    "    "
   ]
  },
  {
   "cell_type": "code",
   "execution_count": null,
   "id": "9dbf479d-7d4c-438f-858a-1d48c42da8ce",
   "metadata": {},
   "outputs": [],
   "source": []
  },
  {
   "cell_type": "markdown",
   "id": "6f3717e3-17c7-4ed1-b4ac-9a9378d0dc29",
   "metadata": {},
   "source": [
    "16.REVERSE A NUMBER"
   ]
  },
  {
   "cell_type": "code",
   "execution_count": 8,
   "id": "82d9186a-9bce-4ded-ac2f-6c6e62776e77",
   "metadata": {},
   "outputs": [
    {
     "data": {
      "text/plain": [
       "'998765'"
      ]
     },
     "execution_count": 8,
     "metadata": {},
     "output_type": "execute_result"
    }
   ],
   "source": [
    "s= \"567899\"\n",
    "s[::-1]"
   ]
  },
  {
   "cell_type": "code",
   "execution_count": null,
   "id": "3fa372ff-94a2-4982-b3d3-f425b5c7892a",
   "metadata": {},
   "outputs": [],
   "source": []
  },
  {
   "cell_type": "markdown",
   "id": "64b8c282-de2b-42d0-9c32-941f00e7c21e",
   "metadata": {},
   "source": [
    "17.LIST TRAVERSAL"
   ]
  },
  {
   "cell_type": "code",
   "execution_count": 15,
   "id": "b267910b-376b-48a0-ab8f-1e86a7a8c510",
   "metadata": {},
   "outputs": [
    {
     "name": "stdout",
     "output_type": "stream",
     "text": [
      "HELLO, WORLD!\n"
     ]
    }
   ],
   "source": [
    "a = \"Hello, World!\"\n",
    "b = a.upper()\n",
    "print(b)"
   ]
  },
  {
   "cell_type": "code",
   "execution_count": null,
   "id": "fee98320-5552-406c-98b3-254051ae0e70",
   "metadata": {},
   "outputs": [],
   "source": []
  },
  {
   "cell_type": "markdown",
   "id": "b68b7ed4-acd9-43f7-9009-a737d1e0ddaa",
   "metadata": {},
   "source": [
    "18.SUM OF DIGITS"
   ]
  },
  {
   "cell_type": "code",
   "execution_count": 17,
   "id": "cf3821c5-e938-499b-9272-47c73c4fb45c",
   "metadata": {},
   "outputs": [
    {
     "data": {
      "text/plain": [
       "40"
      ]
     },
     "execution_count": 17,
     "metadata": {},
     "output_type": "execute_result"
    }
   ],
   "source": [
    "a=12\n",
    "b=13\n",
    "c=15\n",
    "a+b+c"
   ]
  },
  {
   "cell_type": "code",
   "execution_count": null,
   "id": "5ed98ded-ea93-4685-aa2e-b7a65161ab1e",
   "metadata": {},
   "outputs": [],
   "source": []
  },
  {
   "cell_type": "markdown",
   "id": "d08c7e40-683d-43cd-a042-bccba0c07969",
   "metadata": {},
   "source": [
    "19.COUNT DIGITS"
   ]
  },
  {
   "cell_type": "code",
   "execution_count": 1,
   "id": "dab3a611-7996-493c-9863-f2c612c80536",
   "metadata": {},
   "outputs": [
    {
     "data": {
      "text/plain": [
       "5"
      ]
     },
     "execution_count": 1,
     "metadata": {},
     "output_type": "execute_result"
    }
   ],
   "source": [
    "s=(\"12345\")\n",
    "len(s)"
   ]
  },
  {
   "cell_type": "code",
   "execution_count": null,
   "id": "5f0188ef-1af3-40b8-8a14-72b774e2d456",
   "metadata": {},
   "outputs": [],
   "source": []
  },
  {
   "cell_type": "code",
   "execution_count": null,
   "id": "576b5836-3a54-4c9d-b197-2573295320f1",
   "metadata": {},
   "outputs": [],
   "source": []
  },
  {
   "cell_type": "code",
   "execution_count": null,
   "id": "898a83c5-a132-4cce-9714-5722a00ce42b",
   "metadata": {},
   "outputs": [],
   "source": []
  },
  {
   "cell_type": "code",
   "execution_count": null,
   "id": "1bea7e93-8741-4dd1-bbc0-3f6130964555",
   "metadata": {},
   "outputs": [],
   "source": []
  }
 ],
 "metadata": {
  "kernelspec": {
   "display_name": "Python 3 (ipykernel)",
   "language": "python",
   "name": "python3"
  },
  "language_info": {
   "codemirror_mode": {
    "name": "ipython",
    "version": 3
   },
   "file_extension": ".py",
   "mimetype": "text/x-python",
   "name": "python",
   "nbconvert_exporter": "python",
   "pygments_lexer": "ipython3",
   "version": "3.13.5"
  }
 },
 "nbformat": 4,
 "nbformat_minor": 5
}
